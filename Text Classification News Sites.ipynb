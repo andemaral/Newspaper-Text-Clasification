{
 "cells": [
  {
   "cell_type": "markdown",
   "metadata": {},
   "source": [
    "## Clasificación de texto\n",
    "\n",
    "Para entender el efecto de la cantidad de dimensiones en la capacidad predictiva del modelo vamos a trabajar en un clasificador de noticias de dos diarios argentinos para intentar distinguir entre uno y otro a partir del vocabulario que utilizan. <br />\n",
    "\n",
    "Para esto vamos a implementar un modelo de tipo Naïve Bayes con vectorización de tipo TF-IDF."
   ]
  },
  {
   "cell_type": "code",
   "execution_count": 28,
   "metadata": {},
   "outputs": [],
   "source": [
    "import pandas as pd\n",
    "import numpy as np\n",
    "from sklearn.feature_extraction.text import CountVectorizer,TfidfVectorizer\n",
    "from sklearn.linear_model import LogisticRegression\n",
    "from sklearn.naive_bayes import BernoulliNB,GaussianNB\n",
    "from sklearn.metrics import accuracy_score,confusion_matrix,precision_score,recall_score,f1_score,classification_report,auc,roc_curve,roc_auc_score\n",
    "from sklearn.pipeline import Pipeline\n",
    "from sklearn.feature_extraction.text import TfidfTransformer\n",
    "from sklearn.model_selection import GridSearchCV\n",
    "from sklearn.ensemble import RandomForestClassifier\n",
    "seed=42\n",
    "import unicodedata\n",
    "from nltk.corpus import stopwords\n",
    "stop = stopwords.words('spanish')\n",
    "from nltk.stem.wordnet import WordNetLemmatizer\n",
    "from nltk import word_tokenize as TK\n",
    "from nltk import pos_tag\n",
    "from nltk.corpus import stopwords\n",
    "from nltk.stem import PorterStemmer\n",
    "from nltk.tokenize import sent_tokenize, word_tokenize\n",
    "\n",
    "# Para visualizar\n",
    "import pyLDAvis\n",
    "import pyLDAvis.gensim\n",
    "import matplotlib.pyplot as plt\n",
    "\n",
    "import warnings\n",
    "warnings.filterwarnings(\"ignore\")"
   ]
  },
  {
   "cell_type": "code",
   "execution_count": 2,
   "metadata": {},
   "outputs": [],
   "source": [
    "df_clarin = pd.read_csv('clarin.csv')\n",
    "df_clarin['class'] = 0"
   ]
  },
  {
   "cell_type": "code",
   "execution_count": 3,
   "metadata": {},
   "outputs": [],
   "source": [
    "df_p12 = pd.read_csv('pagina12.csv')\n",
    "df_p12['class'] = 1"
   ]
  },
  {
   "cell_type": "code",
   "execution_count": 4,
   "metadata": {},
   "outputs": [],
   "source": [
    "df = pd.concat([df_clarin,df_p12])"
   ]
  },
  {
   "cell_type": "code",
   "execution_count": 5,
   "metadata": {},
   "outputs": [
    {
     "data": {
      "text/html": [
       "<div>\n",
       "<style scoped>\n",
       "    .dataframe tbody tr th:only-of-type {\n",
       "        vertical-align: middle;\n",
       "    }\n",
       "\n",
       "    .dataframe tbody tr th {\n",
       "        vertical-align: top;\n",
       "    }\n",
       "\n",
       "    .dataframe thead th {\n",
       "        text-align: right;\n",
       "    }\n",
       "</style>\n",
       "<table border=\"1\" class=\"dataframe\">\n",
       "  <thead>\n",
       "    <tr style=\"text-align: right;\">\n",
       "      <th></th>\n",
       "      <th>Unnamed: 0</th>\n",
       "      <th>cuerpo</th>\n",
       "      <th>fecha_hora</th>\n",
       "      <th>imagen</th>\n",
       "      <th>resumen</th>\n",
       "      <th>suplemento</th>\n",
       "      <th>titulo</th>\n",
       "      <th>url</th>\n",
       "      <th>class</th>\n",
       "    </tr>\n",
       "  </thead>\n",
       "  <tbody>\n",
       "    <tr>\n",
       "      <td>35</td>\n",
       "      <td>35</td>\n",
       "      <td>Una ordenanza municipal de Córdoba que orden...</td>\n",
       "      <td>10/10/2017</td>\n",
       "      <td>//images.clarin.com/2017/10/10/rJhLc_qnb_930x5...</td>\n",
       "      <td>La polémica se generó por una ordenanza que im...</td>\n",
       "      <td>/sociedad/</td>\n",
       "      <td>La guerra del azúcar: Tucumán va a la Justicia...</td>\n",
       "      <td>http://www.clarin.com/sociedad/guerra-azucar-t...</td>\n",
       "      <td>0</td>\n",
       "    </tr>\n",
       "    <tr>\n",
       "      <td>53</td>\n",
       "      <td>53</td>\n",
       "      <td>Netflix y Marvel decidieron cancelar la presen...</td>\n",
       "      <td>09 de octubre de 2017</td>\n",
       "      <td>https://images.pagina12.com.ar/styles/focal_16...</td>\n",
       "      <td>NaN</td>\n",
       "      <td>NaN</td>\n",
       "      <td>Programados</td>\n",
       "      <td>https://www.pagina12.com.ar/67937-programados</td>\n",
       "      <td>1</td>\n",
       "    </tr>\n",
       "    <tr>\n",
       "      <td>252</td>\n",
       "      <td>252</td>\n",
       "      <td>Era un día más en la agitada rutina de Magui...</td>\n",
       "      <td>12/09/2017</td>\n",
       "      <td>//images.clarin.com/2017/09/12/Bkpk318qb_930x5...</td>\n",
       "      <td>Le rompieron el vidrio de su auto para sacarle...</td>\n",
       "      <td>/deportes/hockey/</td>\n",
       "      <td>Susto para una ex Leona: Magui Aicega fue asal...</td>\n",
       "      <td>http://www.clarin.com/deportes/hockey/susto-ex...</td>\n",
       "      <td>0</td>\n",
       "    </tr>\n",
       "    <tr>\n",
       "      <td>312</td>\n",
       "      <td>312</td>\n",
       "      <td>La actriz Karina K, talentosa artista del mu...</td>\n",
       "      <td>09/10/2017</td>\n",
       "      <td>//images.clarin.com/2015/07/08/SkZde_3RQg_930x...</td>\n",
       "      <td>De gira con su espectáculo, quedó varada en Pu...</td>\n",
       "      <td>/espectaculos/teatro/</td>\n",
       "      <td>La denuncia de Karina K: la actriz dice haber ...</td>\n",
       "      <td>http://www.clarin.com/espectaculos/teatro/denu...</td>\n",
       "      <td>0</td>\n",
       "    </tr>\n",
       "    <tr>\n",
       "      <td>6</td>\n",
       "      <td>6</td>\n",
       "      <td>Un clásico del deporte nacional empezó en su...</td>\n",
       "      <td>10/10/2017</td>\n",
       "      <td>//images.clarin.com/2017/10/10/r141i9q3W_930x5...</td>\n",
       "      <td>El cordobés no faltó a la acción deportiva en ...</td>\n",
       "      <td>/lo-ultimo/</td>\n",
       "      <td>José Meolans estuvo presente en la apertura de...</td>\n",
       "      <td>http://www.clarin.com/deportes/polideportivo/j...</td>\n",
       "      <td>0</td>\n",
       "    </tr>\n",
       "    <tr>\n",
       "      <td>138</td>\n",
       "      <td>138</td>\n",
       "      <td>1. El televisor más real que la realidad mi...</td>\n",
       "      <td>08/10/2017</td>\n",
       "      <td>//images.clarin.com/2017/10/05/r18QKz4h-_930x5...</td>\n",
       "      <td>Lo que anticipó la Feria IFA. Berlín fue, una ...</td>\n",
       "      <td>/viva/</td>\n",
       "      <td>Los mejores y los peores electrodomésticos par...</td>\n",
       "      <td>http://www.clarin.com/viva/mejores-peores-elec...</td>\n",
       "      <td>0</td>\n",
       "    </tr>\n",
       "    <tr>\n",
       "      <td>130</td>\n",
       "      <td>130</td>\n",
       "      <td>Las jubilaciones, el salario mínimo y la Asign...</td>\n",
       "      <td>10 de octubre de 2017</td>\n",
       "      <td>https://images.pagina12.com.ar/styles/width960...</td>\n",
       "      <td>NaN</td>\n",
       "      <td>Economía</td>\n",
       "      <td>Ingresos devaluados</td>\n",
       "      <td>https://www.pagina12.com.ar/68135-ingresos-dev...</td>\n",
       "      <td>1</td>\n",
       "    </tr>\n",
       "    <tr>\n",
       "      <td>72</td>\n",
       "      <td>72</td>\n",
       "      <td>El Maestro que apenas horas atrás nos enseña...</td>\n",
       "      <td>05/10/2017</td>\n",
       "      <td>//images.clarin.com/2017/10/05/rJGChVN3b_930x5...</td>\n",
       "      <td>OTRAS CARTAS. El relato del Partido Comunista ...</td>\n",
       "      <td>/cartas_al_pais/</td>\n",
       "      <td>Edgardo, gruñón querido, la gente te sentía co...</td>\n",
       "      <td>http://www.clarin.com/cartas-al-pais/edgardo-g...</td>\n",
       "      <td>0</td>\n",
       "    </tr>\n",
       "    <tr>\n",
       "      <td>257</td>\n",
       "      <td>257</td>\n",
       "      <td>El seleccionado argentino femenino de hocke...</td>\n",
       "      <td>23/07/2017</td>\n",
       "      <td>NaN</td>\n",
       "      <td>Argentina perdió ante Inglaterra y finalizó en...</td>\n",
       "      <td>/deportes/hockey/</td>\n",
       "      <td>Las Leonas se despidieron de Sudáfrica con una...</td>\n",
       "      <td>http://www.clarin.com/deportes/hockey/leonas-d...</td>\n",
       "      <td>0</td>\n",
       "    </tr>\n",
       "    <tr>\n",
       "      <td>144</td>\n",
       "      <td>144</td>\n",
       "      <td>Familiares y víctimas de abusos sexuales en el...</td>\n",
       "      <td>10 de octubre de 2017</td>\n",
       "      <td>https://images.pagina12.com.ar/styles/width960...</td>\n",
       "      <td>NaN</td>\n",
       "      <td>Sociedad</td>\n",
       "      <td>Padres del Próvolo</td>\n",
       "      <td>https://www.pagina12.com.ar/68156-padres-del-p...</td>\n",
       "      <td>1</td>\n",
       "    </tr>\n",
       "  </tbody>\n",
       "</table>\n",
       "</div>"
      ],
      "text/plain": [
       "     Unnamed: 0                                             cuerpo  \\\n",
       "35           35    Una ordenanza municipal de Córdoba que orden...   \n",
       "53           53  Netflix y Marvel decidieron cancelar la presen...   \n",
       "252         252    Era un día más en la agitada rutina de Magui...   \n",
       "312         312    La actriz Karina K, talentosa artista del mu...   \n",
       "6             6    Un clásico del deporte nacional empezó en su...   \n",
       "138         138     1. El televisor más real que la realidad mi...   \n",
       "130         130  Las jubilaciones, el salario mínimo y la Asign...   \n",
       "72           72    El Maestro que apenas horas atrás nos enseña...   \n",
       "257         257     El seleccionado argentino femenino de hocke...   \n",
       "144         144  Familiares y víctimas de abusos sexuales en el...   \n",
       "\n",
       "                fecha_hora                                             imagen  \\\n",
       "35             10/10/2017   //images.clarin.com/2017/10/10/rJhLc_qnb_930x5...   \n",
       "53   09 de octubre de 2017  https://images.pagina12.com.ar/styles/focal_16...   \n",
       "252            12/09/2017   //images.clarin.com/2017/09/12/Bkpk318qb_930x5...   \n",
       "312            09/10/2017   //images.clarin.com/2015/07/08/SkZde_3RQg_930x...   \n",
       "6              10/10/2017   //images.clarin.com/2017/10/10/r141i9q3W_930x5...   \n",
       "138            08/10/2017   //images.clarin.com/2017/10/05/r18QKz4h-_930x5...   \n",
       "130  10 de octubre de 2017  https://images.pagina12.com.ar/styles/width960...   \n",
       "72             05/10/2017   //images.clarin.com/2017/10/05/rJGChVN3b_930x5...   \n",
       "257            23/07/2017                                                 NaN   \n",
       "144  10 de octubre de 2017  https://images.pagina12.com.ar/styles/width960...   \n",
       "\n",
       "                                               resumen             suplemento  \\\n",
       "35   La polémica se generó por una ordenanza que im...             /sociedad/   \n",
       "53                                                 NaN                    NaN   \n",
       "252  Le rompieron el vidrio de su auto para sacarle...      /deportes/hockey/   \n",
       "312  De gira con su espectáculo, quedó varada en Pu...  /espectaculos/teatro/   \n",
       "6    El cordobés no faltó a la acción deportiva en ...            /lo-ultimo/   \n",
       "138  Lo que anticipó la Feria IFA. Berlín fue, una ...                 /viva/   \n",
       "130                                                NaN               Economía   \n",
       "72   OTRAS CARTAS. El relato del Partido Comunista ...       /cartas_al_pais/   \n",
       "257  Argentina perdió ante Inglaterra y finalizó en...      /deportes/hockey/   \n",
       "144                                                NaN               Sociedad   \n",
       "\n",
       "                                                titulo  \\\n",
       "35   La guerra del azúcar: Tucumán va a la Justicia...   \n",
       "53                                         Programados   \n",
       "252  Susto para una ex Leona: Magui Aicega fue asal...   \n",
       "312  La denuncia de Karina K: la actriz dice haber ...   \n",
       "6    José Meolans estuvo presente en la apertura de...   \n",
       "138  Los mejores y los peores electrodomésticos par...   \n",
       "130                                Ingresos devaluados   \n",
       "72   Edgardo, gruñón querido, la gente te sentía co...   \n",
       "257  Las Leonas se despidieron de Sudáfrica con una...   \n",
       "144                                 Padres del Próvolo   \n",
       "\n",
       "                                                   url  class  \n",
       "35   http://www.clarin.com/sociedad/guerra-azucar-t...      0  \n",
       "53       https://www.pagina12.com.ar/67937-programados      1  \n",
       "252  http://www.clarin.com/deportes/hockey/susto-ex...      0  \n",
       "312  http://www.clarin.com/espectaculos/teatro/denu...      0  \n",
       "6    http://www.clarin.com/deportes/polideportivo/j...      0  \n",
       "138  http://www.clarin.com/viva/mejores-peores-elec...      0  \n",
       "130  https://www.pagina12.com.ar/68135-ingresos-dev...      1  \n",
       "72   http://www.clarin.com/cartas-al-pais/edgardo-g...      0  \n",
       "257  http://www.clarin.com/deportes/hockey/leonas-d...      0  \n",
       "144  https://www.pagina12.com.ar/68156-padres-del-p...      1  "
      ]
     },
     "execution_count": 5,
     "metadata": {},
     "output_type": "execute_result"
    }
   ],
   "source": [
    "df.sample(10)"
   ]
  },
  {
   "cell_type": "markdown",
   "metadata": {},
   "source": [
    "### 1. Limpieza\n",
    "\n",
    "#### 1.1 Faltantes\n",
    "\n",
    "A partir del dataset observamos que los campos que probablemente contengan el vocabulario relevante son \"cuerpo\", \"título\" y \"resumen\".\n",
    "Sacar del análisis los registros que no tienen cuerpo o título disponible y completar los resúmenes faltantes con una campo en blanco\n"
   ]
  },
  {
   "cell_type": "code",
   "execution_count": 6,
   "metadata": {},
   "outputs": [
    {
     "data": {
      "text/plain": [
       "Unnamed: 0      0\n",
       "cuerpo          6\n",
       "fecha_hora      3\n",
       "imagen         22\n",
       "resumen       128\n",
       "suplemento     68\n",
       "titulo          3\n",
       "url             0\n",
       "class           0\n",
       "dtype: int64"
      ]
     },
     "execution_count": 6,
     "metadata": {},
     "output_type": "execute_result"
    }
   ],
   "source": [
    "df.isnull().sum()"
   ]
  },
  {
   "cell_type": "code",
   "execution_count": 7,
   "metadata": {},
   "outputs": [],
   "source": [
    "df=df[df['cuerpo'].notnull()]\n",
    "df=df[df['resumen'].notnull()]\n",
    "df=df[df['titulo'].notnull()]"
   ]
  },
  {
   "cell_type": "code",
   "execution_count": 8,
   "metadata": {},
   "outputs": [
    {
     "data": {
      "text/plain": [
       "Unnamed: 0     0\n",
       "cuerpo         0\n",
       "fecha_hora     0\n",
       "imagen         9\n",
       "resumen        0\n",
       "suplemento    22\n",
       "titulo         0\n",
       "url            0\n",
       "class          0\n",
       "dtype: int64"
      ]
     },
     "execution_count": 8,
     "metadata": {},
     "output_type": "execute_result"
    }
   ],
   "source": [
    "df.isnull().sum()"
   ]
  },
  {
   "cell_type": "code",
   "execution_count": 9,
   "metadata": {},
   "outputs": [],
   "source": [
    "df.drop(columns='imagen',inplace=True)\n",
    "df.drop(columns='url',inplace=True)\n",
    "df.drop(columns='Unnamed: 0',inplace=True)"
   ]
  },
  {
   "cell_type": "code",
   "execution_count": 10,
   "metadata": {},
   "outputs": [
    {
     "data": {
      "text/html": [
       "<div>\n",
       "<style scoped>\n",
       "    .dataframe tbody tr th:only-of-type {\n",
       "        vertical-align: middle;\n",
       "    }\n",
       "\n",
       "    .dataframe tbody tr th {\n",
       "        vertical-align: top;\n",
       "    }\n",
       "\n",
       "    .dataframe thead th {\n",
       "        text-align: right;\n",
       "    }\n",
       "</style>\n",
       "<table border=\"1\" class=\"dataframe\">\n",
       "  <thead>\n",
       "    <tr style=\"text-align: right;\">\n",
       "      <th></th>\n",
       "      <th>cuerpo</th>\n",
       "      <th>fecha_hora</th>\n",
       "      <th>resumen</th>\n",
       "      <th>suplemento</th>\n",
       "      <th>titulo</th>\n",
       "      <th>class</th>\n",
       "    </tr>\n",
       "  </thead>\n",
       "  <tbody>\n",
       "    <tr>\n",
       "      <td>105</td>\n",
       "      <td>Con escasísimo margen de error. Así entrará ma...</td>\n",
       "      <td>09 de octubre de 2017</td>\n",
       "      <td>El director técnico argentino introduciría cam...</td>\n",
       "      <td>Deportes</td>\n",
       "      <td>Las dudas de Sampaoli para enfrentar a Ecuador</td>\n",
       "      <td>1</td>\n",
       "    </tr>\n",
       "    <tr>\n",
       "      <td>60</td>\n",
       "      <td>PáginaI12 En España\\nDesde Barcelona \\nSi el d...</td>\n",
       "      <td>09 de octubre de 2017</td>\n",
       "      <td>La manifestación multitudinaria de ayer y la f...</td>\n",
       "      <td>El mundo</td>\n",
       "      <td>Nuevos palos en la rueda independentista catalana</td>\n",
       "      <td>1</td>\n",
       "    </tr>\n",
       "    <tr>\n",
       "      <td>74</td>\n",
       "      <td>La prórroga de Ley 26.160, que es presentada...</td>\n",
       "      <td>03/10/2017</td>\n",
       "      <td>OTRAS CARTAS. Sentido adiós de televidentes a ...</td>\n",
       "      <td>/cartas_al_pais/</td>\n",
       "      <td>Sembraron la semilla del conflicto continuo en...</td>\n",
       "      <td>0</td>\n",
       "    </tr>\n",
       "    <tr>\n",
       "      <td>344</td>\n",
       "      <td>Pese a la gran cantidad de portales de e-co...</td>\n",
       "      <td>09/10/2017</td>\n",
       "      <td>Used es un catálogo online para que los usuari...</td>\n",
       "      <td>/autos/</td>\n",
       "      <td>Claas presenta su sistema de venta de usados</td>\n",
       "      <td>0</td>\n",
       "    </tr>\n",
       "    <tr>\n",
       "      <td>244</td>\n",
       "      <td>Hijo de un padre maltratador, ladrón de auto...</td>\n",
       "      <td>21/09/2017</td>\n",
       "      <td>Murió uno de los más polémicos y fascinantes d...</td>\n",
       "      <td>/deportes/boxeo/</td>\n",
       "      <td>LaMotta y una vida de película que mutó del bo...</td>\n",
       "      <td>0</td>\n",
       "    </tr>\n",
       "    <tr>\n",
       "      <td>5</td>\n",
       "      <td>En un nuevo acto de campaña, esta vez en Malv...</td>\n",
       "      <td>08 de octubre de 2017</td>\n",
       "      <td>La ex presidenta y candidata a senadora encabe...</td>\n",
       "      <td>El país</td>\n",
       "      <td>“Están a un pasito de volver a hablar de campa...</td>\n",
       "      <td>1</td>\n",
       "    </tr>\n",
       "    <tr>\n",
       "      <td>0</td>\n",
       "      <td>El Ministerio de Agroindustria de la Nación,...</td>\n",
       "      <td>10/10/2017</td>\n",
       "      <td>De acuerdo a los datos relevados por el Instit...</td>\n",
       "      <td>/lo-ultimo/</td>\n",
       "      <td>Soja: aumentó la superficie sembrada con semil...</td>\n",
       "      <td>0</td>\n",
       "    </tr>\n",
       "    <tr>\n",
       "      <td>86</td>\n",
       "      <td>Los dos principales candidatos a gobernador ...</td>\n",
       "      <td>08/10/2017</td>\n",
       "      <td>Son comicios para gobernador. Tanto en el ofic...</td>\n",
       "      <td>/cultura/</td>\n",
       "      <td>Corrientes: ya votaron los candidatos y hay mu...</td>\n",
       "      <td>0</td>\n",
       "    </tr>\n",
       "    <tr>\n",
       "      <td>44</td>\n",
       "      <td>La Justicia Federal de Rosario procesó a Ari...</td>\n",
       "      <td>10/10/2017</td>\n",
       "      <td>Ariel \"Guille\" Cantero está detenido en el pen...</td>\n",
       "      <td>/policiales/</td>\n",
       "      <td>Procesan a líder de \"Los Monos\" por planificar...</td>\n",
       "      <td>0</td>\n",
       "    </tr>\n",
       "    <tr>\n",
       "      <td>162</td>\n",
       "      <td>Son más de 35 chicos y jóvenes, de ambos sex...</td>\n",
       "      <td>28/09/2017</td>\n",
       "      <td>En el club de Villa Crespo funciona una escuel...</td>\n",
       "      <td>/deportes/ascenso/</td>\n",
       "      <td>Querido Ascenso: En Atlanta saben tirar parede...</td>\n",
       "      <td>0</td>\n",
       "    </tr>\n",
       "  </tbody>\n",
       "</table>\n",
       "</div>"
      ],
      "text/plain": [
       "                                                cuerpo             fecha_hora  \\\n",
       "105  Con escasísimo margen de error. Así entrará ma...  09 de octubre de 2017   \n",
       "60   PáginaI12 En España\\nDesde Barcelona \\nSi el d...  09 de octubre de 2017   \n",
       "74     La prórroga de Ley 26.160, que es presentada...            03/10/2017    \n",
       "344     Pese a la gran cantidad de portales de e-co...            09/10/2017    \n",
       "244    Hijo de un padre maltratador, ladrón de auto...            21/09/2017    \n",
       "5     En un nuevo acto de campaña, esta vez en Malv...  08 de octubre de 2017   \n",
       "0      El Ministerio de Agroindustria de la Nación,...            10/10/2017    \n",
       "86     Los dos principales candidatos a gobernador ...            08/10/2017    \n",
       "44     La Justicia Federal de Rosario procesó a Ari...            10/10/2017    \n",
       "162    Son más de 35 chicos y jóvenes, de ambos sex...            28/09/2017    \n",
       "\n",
       "                                               resumen          suplemento  \\\n",
       "105  El director técnico argentino introduciría cam...            Deportes   \n",
       "60   La manifestación multitudinaria de ayer y la f...            El mundo   \n",
       "74   OTRAS CARTAS. Sentido adiós de televidentes a ...    /cartas_al_pais/   \n",
       "344  Used es un catálogo online para que los usuari...             /autos/   \n",
       "244  Murió uno de los más polémicos y fascinantes d...    /deportes/boxeo/   \n",
       "5    La ex presidenta y candidata a senadora encabe...             El país   \n",
       "0    De acuerdo a los datos relevados por el Instit...         /lo-ultimo/   \n",
       "86   Son comicios para gobernador. Tanto en el ofic...           /cultura/   \n",
       "44   Ariel \"Guille\" Cantero está detenido en el pen...        /policiales/   \n",
       "162  En el club de Villa Crespo funciona una escuel...  /deportes/ascenso/   \n",
       "\n",
       "                                                titulo  class  \n",
       "105     Las dudas de Sampaoli para enfrentar a Ecuador      1  \n",
       "60   Nuevos palos en la rueda independentista catalana      1  \n",
       "74   Sembraron la semilla del conflicto continuo en...      0  \n",
       "344       Claas presenta su sistema de venta de usados      0  \n",
       "244  LaMotta y una vida de película que mutó del bo...      0  \n",
       "5    “Están a un pasito de volver a hablar de campa...      1  \n",
       "0    Soja: aumentó la superficie sembrada con semil...      0  \n",
       "86   Corrientes: ya votaron los candidatos y hay mu...      0  \n",
       "44   Procesan a líder de \"Los Monos\" por planificar...      0  \n",
       "162  Querido Ascenso: En Atlanta saben tirar parede...      0  "
      ]
     },
     "execution_count": 10,
     "metadata": {},
     "output_type": "execute_result"
    }
   ],
   "source": [
    "df.sample(10)"
   ]
  },
  {
   "cell_type": "code",
   "execution_count": 11,
   "metadata": {},
   "outputs": [
    {
     "data": {
      "text/plain": [
       "array(['/lo-ultimo/', '/politica/', '/mundo/', '/sociedad/',\n",
       "       '/policiales/', '/ciudades/', '/opinion/', '/cartas_al_pais/',\n",
       "       '/cultura/', '/rural/', '/economia/', '/tecnologia/',\n",
       "       '/revista-enie/', '/viva/', '/br/', '/deportes/futbol/',\n",
       "       '/deportes/ascenso/', '/deportes/futbol-internacional/',\n",
       "       '/deportes/messi/', '/deportes/rugby/', '/deportes/tenis/',\n",
       "       '/deportes/automovilismo/', '/deportes/basquet/',\n",
       "       '/deportes/polideportivo/', '/deportes/turf/', '/deportes/boxeo/',\n",
       "       '/deportes/hockey/', '/deportes/', '/espectaculos/fama/',\n",
       "       '/espectaculos/tv/', '/espectaculos/cine/',\n",
       "       '/espectaculos/musica/', '/espectaculos/teatro/', '/si/',\n",
       "       '/espectaculos/', '/entremujeres/', '/autos/', '/buena-vida/',\n",
       "       '/viajes/', '/arq/', 'El país', 'El mundo', 'Sociedad', 'Deportes',\n",
       "       nan, 'Economía', 'Universidad', 'Plástica'], dtype=object)"
      ]
     },
     "execution_count": 11,
     "metadata": {},
     "output_type": "execute_result"
    }
   ],
   "source": [
    "df.suplemento.unique()"
   ]
  },
  {
   "cell_type": "code",
   "execution_count": 12,
   "metadata": {},
   "outputs": [],
   "source": [
    "import re\n",
    "patron_deportes=r'(deportes)'\n",
    "df['suplemento deportes']=df['suplemento'].str.extract(patron_deportes, flags=re.IGNORECASE)\n"
   ]
  },
  {
   "cell_type": "code",
   "execution_count": 13,
   "metadata": {},
   "outputs": [
    {
     "data": {
      "text/plain": [
       "array([nan, 'deportes', 'Deportes'], dtype=object)"
      ]
     },
     "execution_count": 13,
     "metadata": {},
     "output_type": "execute_result"
    }
   ],
   "source": [
    "df['suplemento deportes'].unique()"
   ]
  },
  {
   "cell_type": "code",
   "execution_count": 14,
   "metadata": {},
   "outputs": [],
   "source": [
    "df=df[(df['suplemento deportes'].isnull())]\n",
    "df.drop(columns='suplemento deportes',inplace=True)"
   ]
  },
  {
   "cell_type": "code",
   "execution_count": 15,
   "metadata": {},
   "outputs": [
    {
     "data": {
      "text/plain": [
       "array(['/lo-ultimo/', '/politica/', '/mundo/', '/sociedad/',\n",
       "       '/policiales/', '/ciudades/', '/opinion/', '/cartas_al_pais/',\n",
       "       '/cultura/', '/rural/', '/economia/', '/tecnologia/',\n",
       "       '/revista-enie/', '/viva/', '/br/', '/espectaculos/fama/',\n",
       "       '/espectaculos/tv/', '/espectaculos/cine/',\n",
       "       '/espectaculos/musica/', '/espectaculos/teatro/', '/si/',\n",
       "       '/espectaculos/', '/entremujeres/', '/autos/', '/buena-vida/',\n",
       "       '/viajes/', '/arq/', 'El país', 'El mundo', 'Sociedad', nan,\n",
       "       'Economía', 'Universidad', 'Plástica'], dtype=object)"
      ]
     },
     "execution_count": 15,
     "metadata": {},
     "output_type": "execute_result"
    }
   ],
   "source": [
    "df.suplemento.unique()"
   ]
  },
  {
   "cell_type": "code",
   "execution_count": 16,
   "metadata": {},
   "outputs": [
    {
     "data": {
      "text/html": [
       "<div>\n",
       "<style scoped>\n",
       "    .dataframe tbody tr th:only-of-type {\n",
       "        vertical-align: middle;\n",
       "    }\n",
       "\n",
       "    .dataframe tbody tr th {\n",
       "        vertical-align: top;\n",
       "    }\n",
       "\n",
       "    .dataframe thead th {\n",
       "        text-align: right;\n",
       "    }\n",
       "</style>\n",
       "<table border=\"1\" class=\"dataframe\">\n",
       "  <thead>\n",
       "    <tr style=\"text-align: right;\">\n",
       "      <th></th>\n",
       "      <th>cuerpo</th>\n",
       "      <th>fecha_hora</th>\n",
       "      <th>resumen</th>\n",
       "      <th>suplemento</th>\n",
       "      <th>titulo</th>\n",
       "      <th>class</th>\n",
       "    </tr>\n",
       "  </thead>\n",
       "  <tbody>\n",
       "    <tr>\n",
       "      <td>0</td>\n",
       "      <td>El Ministerio de Agroindustria de la Nación,...</td>\n",
       "      <td>10/10/2017</td>\n",
       "      <td>De acuerdo a los datos relevados por el Instit...</td>\n",
       "      <td>/lo-ultimo/</td>\n",
       "      <td>Soja: aumentó la superficie sembrada con semil...</td>\n",
       "      <td>0</td>\n",
       "    </tr>\n",
       "    <tr>\n",
       "      <td>1</td>\n",
       "      <td>Políticos, economistas, funcionarios, empres...</td>\n",
       "      <td>10/10/2017</td>\n",
       "      <td>Los sondeos para las próximas elecciones y la ...</td>\n",
       "      <td>/lo-ultimo/</td>\n",
       "      <td>Políticos, empresarios y periodistas en la cel...</td>\n",
       "      <td>0</td>\n",
       "    </tr>\n",
       "    <tr>\n",
       "      <td>2</td>\n",
       "      <td>En el Mercado de Liniers ingresaron 7.406 an...</td>\n",
       "      <td>10/10/2017</td>\n",
       "      <td>Las ventas resultaron ágiles y los mejores lot...</td>\n",
       "      <td>/lo-ultimo/</td>\n",
       "      <td>Mercado de Liniers: entrada pobre y recuperaci...</td>\n",
       "      <td>0</td>\n",
       "    </tr>\n",
       "    <tr>\n",
       "      <td>3</td>\n",
       "      <td>Cuando hace más de un año se supo del encuen...</td>\n",
       "      <td>10/10/2017</td>\n",
       "      <td>La actriz filmó una serie para Netflix en la q...</td>\n",
       "      <td>/lo-ultimo/</td>\n",
       "      <td>Kate del Castillo cuenta su versión del encuen...</td>\n",
       "      <td>0</td>\n",
       "    </tr>\n",
       "    <tr>\n",
       "      <td>4</td>\n",
       "      <td>En la pelea contra el efectivo y a favor del...</td>\n",
       "      <td>10/10/2017</td>\n",
       "      <td>El sistema de pago PIM que desarrolló el Banco...</td>\n",
       "      <td>/lo-ultimo/</td>\n",
       "      <td>La billetera móvil del Banco Nación llega a lo...</td>\n",
       "      <td>0</td>\n",
       "    </tr>\n",
       "    <tr>\n",
       "      <td>...</td>\n",
       "      <td>...</td>\n",
       "      <td>...</td>\n",
       "      <td>...</td>\n",
       "      <td>...</td>\n",
       "      <td>...</td>\n",
       "      <td>...</td>\n",
       "    </tr>\n",
       "    <tr>\n",
       "      <td>215</td>\n",
       "      <td>Moira Millan, dirigente mapuche de la comunida...</td>\n",
       "      <td>10 de octubre de 2017</td>\n",
       "      <td>La referente de la comunidad Pillán Mahuiza, d...</td>\n",
       "      <td>El país</td>\n",
       "      <td>Dirigente mapuche denuncia amenazas</td>\n",
       "      <td>1</td>\n",
       "    </tr>\n",
       "    <tr>\n",
       "      <td>216</td>\n",
       "      <td>El ex ministro de Transporte y candidato a sen...</td>\n",
       "      <td>10 de octubre de 2017</td>\n",
       "      <td>El candidato a senador por Cumplir se distanci...</td>\n",
       "      <td>El país</td>\n",
       "      <td>\"Tengo diferencias de fondo con este Gobierno\"</td>\n",
       "      <td>1</td>\n",
       "    </tr>\n",
       "    <tr>\n",
       "      <td>217</td>\n",
       "      <td>En la conferencia de prensa brindada hoy por l...</td>\n",
       "      <td>10 de octubre de 2017</td>\n",
       "      <td>La ex presidenta fue crítica con el gobierno d...</td>\n",
       "      <td>El país</td>\n",
       "      <td>\"España está ante una encrucijada\"</td>\n",
       "      <td>1</td>\n",
       "    </tr>\n",
       "    <tr>\n",
       "      <td>219</td>\n",
       "      <td>\"Asumo el mandato del puebl...</td>\n",
       "      <td>10 de octubre de 2017</td>\n",
       "      <td>El presidente de la Generalitat, Carles Puigde...</td>\n",
       "      <td>El mundo</td>\n",
       "      <td>\"No somos locos ni golpistas\"</td>\n",
       "      <td>1</td>\n",
       "    </tr>\n",
       "    <tr>\n",
       "      <td>220</td>\n",
       "      <td>Dietrich esquivó su visita al Congreso aducien...</td>\n",
       "      <td>10 de octubre de 2017</td>\n",
       "      <td>El ministro de Transporte, Guillermo Dietrich,...</td>\n",
       "      <td>El país</td>\n",
       "      <td>Dietrich esquivó al Congreso</td>\n",
       "      <td>1</td>\n",
       "    </tr>\n",
       "  </tbody>\n",
       "</table>\n",
       "<p>347 rows × 6 columns</p>\n",
       "</div>"
      ],
      "text/plain": [
       "                                                cuerpo             fecha_hora  \\\n",
       "0      El Ministerio de Agroindustria de la Nación,...            10/10/2017    \n",
       "1      Políticos, economistas, funcionarios, empres...            10/10/2017    \n",
       "2      En el Mercado de Liniers ingresaron 7.406 an...            10/10/2017    \n",
       "3      Cuando hace más de un año se supo del encuen...            10/10/2017    \n",
       "4      En la pelea contra el efectivo y a favor del...            10/10/2017    \n",
       "..                                                 ...                    ...   \n",
       "215  Moira Millan, dirigente mapuche de la comunida...  10 de octubre de 2017   \n",
       "216  El ex ministro de Transporte y candidato a sen...  10 de octubre de 2017   \n",
       "217  En la conferencia de prensa brindada hoy por l...  10 de octubre de 2017   \n",
       "219                     \"Asumo el mandato del puebl...  10 de octubre de 2017   \n",
       "220  Dietrich esquivó su visita al Congreso aducien...  10 de octubre de 2017   \n",
       "\n",
       "                                               resumen   suplemento  \\\n",
       "0    De acuerdo a los datos relevados por el Instit...  /lo-ultimo/   \n",
       "1    Los sondeos para las próximas elecciones y la ...  /lo-ultimo/   \n",
       "2    Las ventas resultaron ágiles y los mejores lot...  /lo-ultimo/   \n",
       "3    La actriz filmó una serie para Netflix en la q...  /lo-ultimo/   \n",
       "4    El sistema de pago PIM que desarrolló el Banco...  /lo-ultimo/   \n",
       "..                                                 ...          ...   \n",
       "215  La referente de la comunidad Pillán Mahuiza, d...      El país   \n",
       "216  El candidato a senador por Cumplir se distanci...      El país   \n",
       "217  La ex presidenta fue crítica con el gobierno d...      El país   \n",
       "219  El presidente de la Generalitat, Carles Puigde...     El mundo   \n",
       "220  El ministro de Transporte, Guillermo Dietrich,...      El país   \n",
       "\n",
       "                                                titulo  class  \n",
       "0    Soja: aumentó la superficie sembrada con semil...      0  \n",
       "1    Políticos, empresarios y periodistas en la cel...      0  \n",
       "2    Mercado de Liniers: entrada pobre y recuperaci...      0  \n",
       "3    Kate del Castillo cuenta su versión del encuen...      0  \n",
       "4    La billetera móvil del Banco Nación llega a lo...      0  \n",
       "..                                                 ...    ...  \n",
       "215                Dirigente mapuche denuncia amenazas      1  \n",
       "216     \"Tengo diferencias de fondo con este Gobierno\"      1  \n",
       "217                 \"España está ante una encrucijada\"      1  \n",
       "219                      \"No somos locos ni golpistas\"      1  \n",
       "220                       Dietrich esquivó al Congreso      1  \n",
       "\n",
       "[347 rows x 6 columns]"
      ]
     },
     "execution_count": 16,
     "metadata": {},
     "output_type": "execute_result"
    }
   ],
   "source": [
    "df"
   ]
  },
  {
   "cell_type": "markdown",
   "metadata": {},
   "source": [
    "#### 1.2 Suplementos relevantes\n",
    "\n",
    "Para mejorar la clasificación es conveniente retirar las secciones donde los dos diarios utilizan un vocabulario similar y muy específico del dominio como, por ejemplo, las relacionadas a deportes."
   ]
  },
  {
   "cell_type": "code",
   "execution_count": null,
   "metadata": {},
   "outputs": [],
   "source": []
  },
  {
   "cell_type": "code",
   "execution_count": null,
   "metadata": {},
   "outputs": [],
   "source": []
  },
  {
   "cell_type": "markdown",
   "metadata": {},
   "source": [
    "#### 1.3 Corpus\n",
    "\n",
    "Construir la columna sobre la cual vamos a predecir concatenando el título, resumen y cuerpo de las distintas noticias."
   ]
  },
  {
   "cell_type": "code",
   "execution_count": 17,
   "metadata": {},
   "outputs": [],
   "source": [
    "corpus= df[['titulo','resumen','cuerpo','class']]\n"
   ]
  },
  {
   "cell_type": "code",
   "execution_count": 19,
   "metadata": {},
   "outputs": [],
   "source": [
    "corpus['noticia'] = (corpus['titulo'] + ' ' + corpus['cuerpo'])\n"
   ]
  },
  {
   "cell_type": "code",
   "execution_count": 20,
   "metadata": {},
   "outputs": [
    {
     "data": {
      "text/html": [
       "<div>\n",
       "<style scoped>\n",
       "    .dataframe tbody tr th:only-of-type {\n",
       "        vertical-align: middle;\n",
       "    }\n",
       "\n",
       "    .dataframe tbody tr th {\n",
       "        vertical-align: top;\n",
       "    }\n",
       "\n",
       "    .dataframe thead th {\n",
       "        text-align: right;\n",
       "    }\n",
       "</style>\n",
       "<table border=\"1\" class=\"dataframe\">\n",
       "  <thead>\n",
       "    <tr style=\"text-align: right;\">\n",
       "      <th></th>\n",
       "      <th>titulo</th>\n",
       "      <th>resumen</th>\n",
       "      <th>cuerpo</th>\n",
       "      <th>class</th>\n",
       "      <th>noticia</th>\n",
       "    </tr>\n",
       "  </thead>\n",
       "  <tbody>\n",
       "    <tr>\n",
       "      <td>0</td>\n",
       "      <td>Soja: aumentó la superficie sembrada con semil...</td>\n",
       "      <td>De acuerdo a los datos relevados por el Instit...</td>\n",
       "      <td>El Ministerio de Agroindustria de la Nación,...</td>\n",
       "      <td>0</td>\n",
       "      <td>Soja: aumentó la superficie sembrada con semil...</td>\n",
       "    </tr>\n",
       "    <tr>\n",
       "      <td>1</td>\n",
       "      <td>Políticos, empresarios y periodistas en la cel...</td>\n",
       "      <td>Los sondeos para las próximas elecciones y la ...</td>\n",
       "      <td>Políticos, economistas, funcionarios, empres...</td>\n",
       "      <td>0</td>\n",
       "      <td>Políticos, empresarios y periodistas en la cel...</td>\n",
       "    </tr>\n",
       "    <tr>\n",
       "      <td>2</td>\n",
       "      <td>Mercado de Liniers: entrada pobre y recuperaci...</td>\n",
       "      <td>Las ventas resultaron ágiles y los mejores lot...</td>\n",
       "      <td>En el Mercado de Liniers ingresaron 7.406 an...</td>\n",
       "      <td>0</td>\n",
       "      <td>Mercado de Liniers: entrada pobre y recuperaci...</td>\n",
       "    </tr>\n",
       "    <tr>\n",
       "      <td>3</td>\n",
       "      <td>Kate del Castillo cuenta su versión del encuen...</td>\n",
       "      <td>La actriz filmó una serie para Netflix en la q...</td>\n",
       "      <td>Cuando hace más de un año se supo del encuen...</td>\n",
       "      <td>0</td>\n",
       "      <td>Kate del Castillo cuenta su versión del encuen...</td>\n",
       "    </tr>\n",
       "    <tr>\n",
       "      <td>4</td>\n",
       "      <td>La billetera móvil del Banco Nación llega a lo...</td>\n",
       "      <td>El sistema de pago PIM que desarrolló el Banco...</td>\n",
       "      <td>En la pelea contra el efectivo y a favor del...</td>\n",
       "      <td>0</td>\n",
       "      <td>La billetera móvil del Banco Nación llega a lo...</td>\n",
       "    </tr>\n",
       "    <tr>\n",
       "      <td>...</td>\n",
       "      <td>...</td>\n",
       "      <td>...</td>\n",
       "      <td>...</td>\n",
       "      <td>...</td>\n",
       "      <td>...</td>\n",
       "    </tr>\n",
       "    <tr>\n",
       "      <td>215</td>\n",
       "      <td>Dirigente mapuche denuncia amenazas</td>\n",
       "      <td>La referente de la comunidad Pillán Mahuiza, d...</td>\n",
       "      <td>Moira Millan, dirigente mapuche de la comunida...</td>\n",
       "      <td>1</td>\n",
       "      <td>Dirigente mapuche denuncia amenazas Moira Mill...</td>\n",
       "    </tr>\n",
       "    <tr>\n",
       "      <td>216</td>\n",
       "      <td>\"Tengo diferencias de fondo con este Gobierno\"</td>\n",
       "      <td>El candidato a senador por Cumplir se distanci...</td>\n",
       "      <td>El ex ministro de Transporte y candidato a sen...</td>\n",
       "      <td>1</td>\n",
       "      <td>\"Tengo diferencias de fondo con este Gobierno\"...</td>\n",
       "    </tr>\n",
       "    <tr>\n",
       "      <td>217</td>\n",
       "      <td>\"España está ante una encrucijada\"</td>\n",
       "      <td>La ex presidenta fue crítica con el gobierno d...</td>\n",
       "      <td>En la conferencia de prensa brindada hoy por l...</td>\n",
       "      <td>1</td>\n",
       "      <td>\"España está ante una encrucijada\" En la confe...</td>\n",
       "    </tr>\n",
       "    <tr>\n",
       "      <td>219</td>\n",
       "      <td>\"No somos locos ni golpistas\"</td>\n",
       "      <td>El presidente de la Generalitat, Carles Puigde...</td>\n",
       "      <td>\"Asumo el mandato del puebl...</td>\n",
       "      <td>1</td>\n",
       "      <td>\"No somos locos ni golpistas\"                 ...</td>\n",
       "    </tr>\n",
       "    <tr>\n",
       "      <td>220</td>\n",
       "      <td>Dietrich esquivó al Congreso</td>\n",
       "      <td>El ministro de Transporte, Guillermo Dietrich,...</td>\n",
       "      <td>Dietrich esquivó su visita al Congreso aducien...</td>\n",
       "      <td>1</td>\n",
       "      <td>Dietrich esquivó al Congreso Dietrich esquivó ...</td>\n",
       "    </tr>\n",
       "  </tbody>\n",
       "</table>\n",
       "<p>347 rows × 5 columns</p>\n",
       "</div>"
      ],
      "text/plain": [
       "                                                titulo  \\\n",
       "0    Soja: aumentó la superficie sembrada con semil...   \n",
       "1    Políticos, empresarios y periodistas en la cel...   \n",
       "2    Mercado de Liniers: entrada pobre y recuperaci...   \n",
       "3    Kate del Castillo cuenta su versión del encuen...   \n",
       "4    La billetera móvil del Banco Nación llega a lo...   \n",
       "..                                                 ...   \n",
       "215                Dirigente mapuche denuncia amenazas   \n",
       "216     \"Tengo diferencias de fondo con este Gobierno\"   \n",
       "217                 \"España está ante una encrucijada\"   \n",
       "219                      \"No somos locos ni golpistas\"   \n",
       "220                       Dietrich esquivó al Congreso   \n",
       "\n",
       "                                               resumen  \\\n",
       "0    De acuerdo a los datos relevados por el Instit...   \n",
       "1    Los sondeos para las próximas elecciones y la ...   \n",
       "2    Las ventas resultaron ágiles y los mejores lot...   \n",
       "3    La actriz filmó una serie para Netflix en la q...   \n",
       "4    El sistema de pago PIM que desarrolló el Banco...   \n",
       "..                                                 ...   \n",
       "215  La referente de la comunidad Pillán Mahuiza, d...   \n",
       "216  El candidato a senador por Cumplir se distanci...   \n",
       "217  La ex presidenta fue crítica con el gobierno d...   \n",
       "219  El presidente de la Generalitat, Carles Puigde...   \n",
       "220  El ministro de Transporte, Guillermo Dietrich,...   \n",
       "\n",
       "                                                cuerpo  class  \\\n",
       "0      El Ministerio de Agroindustria de la Nación,...      0   \n",
       "1      Políticos, economistas, funcionarios, empres...      0   \n",
       "2      En el Mercado de Liniers ingresaron 7.406 an...      0   \n",
       "3      Cuando hace más de un año se supo del encuen...      0   \n",
       "4      En la pelea contra el efectivo y a favor del...      0   \n",
       "..                                                 ...    ...   \n",
       "215  Moira Millan, dirigente mapuche de la comunida...      1   \n",
       "216  El ex ministro de Transporte y candidato a sen...      1   \n",
       "217  En la conferencia de prensa brindada hoy por l...      1   \n",
       "219                     \"Asumo el mandato del puebl...      1   \n",
       "220  Dietrich esquivó su visita al Congreso aducien...      1   \n",
       "\n",
       "                                               noticia  \n",
       "0    Soja: aumentó la superficie sembrada con semil...  \n",
       "1    Políticos, empresarios y periodistas en la cel...  \n",
       "2    Mercado de Liniers: entrada pobre y recuperaci...  \n",
       "3    Kate del Castillo cuenta su versión del encuen...  \n",
       "4    La billetera móvil del Banco Nación llega a lo...  \n",
       "..                                                 ...  \n",
       "215  Dirigente mapuche denuncia amenazas Moira Mill...  \n",
       "216  \"Tengo diferencias de fondo con este Gobierno\"...  \n",
       "217  \"España está ante una encrucijada\" En la confe...  \n",
       "219  \"No somos locos ni golpistas\"                 ...  \n",
       "220  Dietrich esquivó al Congreso Dietrich esquivó ...  \n",
       "\n",
       "[347 rows x 5 columns]"
      ]
     },
     "execution_count": 20,
     "metadata": {},
     "output_type": "execute_result"
    }
   ],
   "source": [
    "corpus"
   ]
  },
  {
   "cell_type": "markdown",
   "metadata": {},
   "source": [
    "#### 1.4 Normalización del texto\n",
    "\n",
    "Primero es conveniente pasar todo el corpus a letras minúsculas.\n",
    "\n",
    "Para mejorar el clasificador es importante sacar todos los acentos que pueden generar diferencias artificiales entre palabras según estén o no puestos. Hint: Utilizar el módulo unidecode\n",
    "\n",
    "Una vez retirados los acentos, quitar todos los signos de puntuación para dejar únicamente palabras. Hint: utilizar una expresión regular, por ejemplo, r'([^\\s\\w]|_)+' para reemplazar todo lo que no sean palabras."
   ]
  },
  {
   "cell_type": "code",
   "execution_count": 21,
   "metadata": {},
   "outputs": [
    {
     "data": {
      "text/html": [
       "<div>\n",
       "<style scoped>\n",
       "    .dataframe tbody tr th:only-of-type {\n",
       "        vertical-align: middle;\n",
       "    }\n",
       "\n",
       "    .dataframe tbody tr th {\n",
       "        vertical-align: top;\n",
       "    }\n",
       "\n",
       "    .dataframe thead th {\n",
       "        text-align: right;\n",
       "    }\n",
       "</style>\n",
       "<table border=\"1\" class=\"dataframe\">\n",
       "  <thead>\n",
       "    <tr style=\"text-align: right;\">\n",
       "      <th></th>\n",
       "      <th>titulo</th>\n",
       "      <th>resumen</th>\n",
       "      <th>cuerpo</th>\n",
       "      <th>class</th>\n",
       "      <th>noticia</th>\n",
       "    </tr>\n",
       "  </thead>\n",
       "  <tbody>\n",
       "    <tr>\n",
       "      <td>0</td>\n",
       "      <td>Soja: aumentó la superficie sembrada con semil...</td>\n",
       "      <td>De acuerdo a los datos relevados por el Instit...</td>\n",
       "      <td>El Ministerio de Agroindustria de la Nación,...</td>\n",
       "      <td>0</td>\n",
       "      <td>soja: aumentó la superficie sembrada con semi...</td>\n",
       "    </tr>\n",
       "    <tr>\n",
       "      <td>1</td>\n",
       "      <td>Políticos, empresarios y periodistas en la cel...</td>\n",
       "      <td>Los sondeos para las próximas elecciones y la ...</td>\n",
       "      <td>Políticos, economistas, funcionarios, empres...</td>\n",
       "      <td>0</td>\n",
       "      <td>políticos, empresarios y periodistas en la ce...</td>\n",
       "    </tr>\n",
       "    <tr>\n",
       "      <td>2</td>\n",
       "      <td>Mercado de Liniers: entrada pobre y recuperaci...</td>\n",
       "      <td>Las ventas resultaron ágiles y los mejores lot...</td>\n",
       "      <td>En el Mercado de Liniers ingresaron 7.406 an...</td>\n",
       "      <td>0</td>\n",
       "      <td>mercado de liniers: entrada pobre y recuperaci...</td>\n",
       "    </tr>\n",
       "    <tr>\n",
       "      <td>3</td>\n",
       "      <td>Kate del Castillo cuenta su versión del encuen...</td>\n",
       "      <td>La actriz filmó una serie para Netflix en la q...</td>\n",
       "      <td>Cuando hace más de un año se supo del encuen...</td>\n",
       "      <td>0</td>\n",
       "      <td>kate del castillo cuenta su versión del encue...</td>\n",
       "    </tr>\n",
       "    <tr>\n",
       "      <td>4</td>\n",
       "      <td>La billetera móvil del Banco Nación llega a lo...</td>\n",
       "      <td>El sistema de pago PIM que desarrolló el Banco...</td>\n",
       "      <td>En la pelea contra el efectivo y a favor del...</td>\n",
       "      <td>0</td>\n",
       "      <td>la billetera móvil del banco nación llega a ...</td>\n",
       "    </tr>\n",
       "  </tbody>\n",
       "</table>\n",
       "</div>"
      ],
      "text/plain": [
       "                                              titulo  \\\n",
       "0  Soja: aumentó la superficie sembrada con semil...   \n",
       "1  Políticos, empresarios y periodistas en la cel...   \n",
       "2  Mercado de Liniers: entrada pobre y recuperaci...   \n",
       "3  Kate del Castillo cuenta su versión del encuen...   \n",
       "4  La billetera móvil del Banco Nación llega a lo...   \n",
       "\n",
       "                                             resumen  \\\n",
       "0  De acuerdo a los datos relevados por el Instit...   \n",
       "1  Los sondeos para las próximas elecciones y la ...   \n",
       "2  Las ventas resultaron ágiles y los mejores lot...   \n",
       "3  La actriz filmó una serie para Netflix en la q...   \n",
       "4  El sistema de pago PIM que desarrolló el Banco...   \n",
       "\n",
       "                                              cuerpo  class  \\\n",
       "0    El Ministerio de Agroindustria de la Nación,...      0   \n",
       "1    Políticos, economistas, funcionarios, empres...      0   \n",
       "2    En el Mercado de Liniers ingresaron 7.406 an...      0   \n",
       "3    Cuando hace más de un año se supo del encuen...      0   \n",
       "4    En la pelea contra el efectivo y a favor del...      0   \n",
       "\n",
       "                                             noticia  \n",
       "0  soja: aumentó la superficie sembrada con semi...  \n",
       "1  políticos, empresarios y periodistas en la ce...  \n",
       "2  mercado de liniers: entrada pobre y recuperaci...  \n",
       "3  kate del castillo cuenta su versión del encue...  \n",
       "4  la billetera móvil del banco nación llega a ...  "
      ]
     },
     "execution_count": 21,
     "metadata": {},
     "output_type": "execute_result"
    }
   ],
   "source": [
    "# Normalizamos el texto\n",
    "corpus['noticia'] = corpus['noticia'].apply(lambda x: unicodedata.normalize(\"NFKD\", x.lower()))\n",
    "corpus.head("
   ]
  },
  {
   "cell_type": "code",
   "execution_count": 32,
   "metadata": {},
   "outputs": [],
   "source": [
    "#patten_words=r'([^\\s\\w]|_)+'\n",
    "#corpus['noticia_regex']=corpus['noticia'].str.extract(patten_words, flags=re.IGNORECASE)\n",
    "from nltk.stem.snowball import SnowballStemmer\n"
   ]
  },
  {
   "cell_type": "code",
   "execution_count": 33,
   "metadata": {},
   "outputs": [],
   "source": [
    "def stemfraseesp(frase):\n",
    "    \n",
    "    token_words=word_tokenize(frase)\n",
    "    token_words\n",
    "    stem_sentence=[]\n",
    "    \n",
    "    spanishStemmer=SnowballStemmer(\"spanish\")\n",
    "    \n",
    "    for word in token_words:\n",
    "        stem_sentence.append(spanishStemmer.stem(word))\n",
    "        stem_sentence.append(\" \")\n",
    "    return \"\".join(stem_sentence)"
   ]
  },
  {
   "cell_type": "code",
   "execution_count": 34,
   "metadata": {},
   "outputs": [
    {
     "data": {
      "text/plain": [
       "'soj : aumentó la superfici sembr con semill fiscaliz el ministeri de agroindustri de la nación , a través del institut nacional de semill ( inas ) , publicó un inform acerc de la identificación de usuari , variedad , superfici de siembr y uso de semill . en el document , elabor por el registr de usuari de semill ( rus ) , se desprend que la superfici sembr con soj que fue de 18 millon de hectár par la últim campañ , la información de las declar jur registr alcanz el 36,3 % de la superfici sembr en tod el país , según un comunic de la carter agropecuari . mirá también baj el escrutini del públic al compar las cifr con la campañ anterior , sig el comunic , se observ un increment del 4,25 % en la superfici declar , en tant que el volum de semill sembr aumentó un 12,52 % . entre ambas campañ , la cantid de productor registr creció un 14,95 % en referent a los productor inclu en la categorí de grand usuari de semill ( gus ) . si bien la evident del aument es signific , se deb a que en esta segund campañ los grand usuari pas de 6.000 a 12.000. mirá también el biodiésel , quem por el proteccion al analiz los establec registr ( según el registr nacional sanitari de productor agropecuari -renspa- ) , se adviert que buen air , córdob y sant fe son las provinci dond se informó la mayor superfici sembr par soj 16/17 , las cual represent un 33 % , 25 % y 15 % respect . en referent a las variedad , los productor declar en el rus el uso de 501 cultivar diferent de soj , de los cual los 20 más utiliz acumul el 50,40 % de la superfici sembr . '"
      ]
     },
     "execution_count": 34,
     "metadata": {},
     "output_type": "execute_result"
    }
   ],
   "source": [
    "stemfraseesp(corpus.iloc[0]['noticia'])"
   ]
  },
  {
   "cell_type": "code",
   "execution_count": 49,
   "metadata": {},
   "outputs": [
    {
     "ename": "TypeError",
     "evalue": "expected string or bytes-like object",
     "output_type": "error",
     "traceback": [
      "\u001b[1;31m---------------------------------------------------------------------------\u001b[0m",
      "\u001b[1;31mTypeError\u001b[0m                                 Traceback (most recent call last)",
      "\u001b[1;32m<ipython-input-49-e424c71dde0e>\u001b[0m in \u001b[0;36m<module>\u001b[1;34m\u001b[0m\n\u001b[0;32m      1\u001b[0m \u001b[0mcorpus\u001b[0m\u001b[1;33m[\u001b[0m\u001b[1;34m'noticia'\u001b[0m\u001b[1;33m]\u001b[0m\u001b[1;33m=\u001b[0m\u001b[0mcorpus\u001b[0m\u001b[1;33m[\u001b[0m\u001b[1;34m'noticia'\u001b[0m\u001b[1;33m]\u001b[0m\u001b[1;33m.\u001b[0m\u001b[0mapply\u001b[0m\u001b[1;33m(\u001b[0m\u001b[1;32mlambda\u001b[0m \u001b[0mx\u001b[0m\u001b[1;33m:\u001b[0m\u001b[1;33m(\u001b[0m\u001b[0mremove_punctuation\u001b[0m\u001b[1;33m(\u001b[0m\u001b[0mpattern\u001b[0m\u001b[1;33m,\u001b[0m\u001b[0mx\u001b[0m\u001b[1;33m)\u001b[0m\u001b[1;33m)\u001b[0m\u001b[1;33m)\u001b[0m\u001b[1;33m\u001b[0m\u001b[1;33m\u001b[0m\u001b[0m\n\u001b[1;32m----> 2\u001b[1;33m \u001b[0mcorpus\u001b[0m\u001b[1;33m[\u001b[0m\u001b[1;34m'noticia stem'\u001b[0m\u001b[1;33m]\u001b[0m \u001b[1;33m=\u001b[0m \u001b[0mcorpus\u001b[0m\u001b[1;33m[\u001b[0m\u001b[1;34m'noticia'\u001b[0m\u001b[1;33m]\u001b[0m\u001b[1;33m.\u001b[0m\u001b[0mapply\u001b[0m\u001b[1;33m(\u001b[0m\u001b[0mstemfraseesp\u001b[0m\u001b[1;33m)\u001b[0m\u001b[1;33m\u001b[0m\u001b[1;33m\u001b[0m\u001b[0m\n\u001b[0m",
      "\u001b[1;32m~\\Anaconda3\\lib\\site-packages\\pandas\\core\\series.py\u001b[0m in \u001b[0;36mapply\u001b[1;34m(self, func, convert_dtype, args, **kwds)\u001b[0m\n\u001b[0;32m   4040\u001b[0m             \u001b[1;32melse\u001b[0m\u001b[1;33m:\u001b[0m\u001b[1;33m\u001b[0m\u001b[1;33m\u001b[0m\u001b[0m\n\u001b[0;32m   4041\u001b[0m                 \u001b[0mvalues\u001b[0m \u001b[1;33m=\u001b[0m \u001b[0mself\u001b[0m\u001b[1;33m.\u001b[0m\u001b[0mastype\u001b[0m\u001b[1;33m(\u001b[0m\u001b[0mobject\u001b[0m\u001b[1;33m)\u001b[0m\u001b[1;33m.\u001b[0m\u001b[0mvalues\u001b[0m\u001b[1;33m\u001b[0m\u001b[1;33m\u001b[0m\u001b[0m\n\u001b[1;32m-> 4042\u001b[1;33m                 \u001b[0mmapped\u001b[0m \u001b[1;33m=\u001b[0m \u001b[0mlib\u001b[0m\u001b[1;33m.\u001b[0m\u001b[0mmap_infer\u001b[0m\u001b[1;33m(\u001b[0m\u001b[0mvalues\u001b[0m\u001b[1;33m,\u001b[0m \u001b[0mf\u001b[0m\u001b[1;33m,\u001b[0m \u001b[0mconvert\u001b[0m\u001b[1;33m=\u001b[0m\u001b[0mconvert_dtype\u001b[0m\u001b[1;33m)\u001b[0m\u001b[1;33m\u001b[0m\u001b[1;33m\u001b[0m\u001b[0m\n\u001b[0m\u001b[0;32m   4043\u001b[0m \u001b[1;33m\u001b[0m\u001b[0m\n\u001b[0;32m   4044\u001b[0m         \u001b[1;32mif\u001b[0m \u001b[0mlen\u001b[0m\u001b[1;33m(\u001b[0m\u001b[0mmapped\u001b[0m\u001b[1;33m)\u001b[0m \u001b[1;32mand\u001b[0m \u001b[0misinstance\u001b[0m\u001b[1;33m(\u001b[0m\u001b[0mmapped\u001b[0m\u001b[1;33m[\u001b[0m\u001b[1;36m0\u001b[0m\u001b[1;33m]\u001b[0m\u001b[1;33m,\u001b[0m \u001b[0mSeries\u001b[0m\u001b[1;33m)\u001b[0m\u001b[1;33m:\u001b[0m\u001b[1;33m\u001b[0m\u001b[1;33m\u001b[0m\u001b[0m\n",
      "\u001b[1;32mpandas\\_libs\\lib.pyx\u001b[0m in \u001b[0;36mpandas._libs.lib.map_infer\u001b[1;34m()\u001b[0m\n",
      "\u001b[1;32m<ipython-input-33-80e4a65a7750>\u001b[0m in \u001b[0;36mstemfraseesp\u001b[1;34m(frase)\u001b[0m\n\u001b[0;32m      1\u001b[0m \u001b[1;32mdef\u001b[0m \u001b[0mstemfraseesp\u001b[0m\u001b[1;33m(\u001b[0m\u001b[0mfrase\u001b[0m\u001b[1;33m)\u001b[0m\u001b[1;33m:\u001b[0m\u001b[1;33m\u001b[0m\u001b[1;33m\u001b[0m\u001b[0m\n\u001b[0;32m      2\u001b[0m \u001b[1;33m\u001b[0m\u001b[0m\n\u001b[1;32m----> 3\u001b[1;33m     \u001b[0mtoken_words\u001b[0m\u001b[1;33m=\u001b[0m\u001b[0mword_tokenize\u001b[0m\u001b[1;33m(\u001b[0m\u001b[0mfrase\u001b[0m\u001b[1;33m)\u001b[0m\u001b[1;33m\u001b[0m\u001b[1;33m\u001b[0m\u001b[0m\n\u001b[0m\u001b[0;32m      4\u001b[0m     \u001b[0mtoken_words\u001b[0m\u001b[1;33m\u001b[0m\u001b[1;33m\u001b[0m\u001b[0m\n\u001b[0;32m      5\u001b[0m     \u001b[0mstem_sentence\u001b[0m\u001b[1;33m=\u001b[0m\u001b[1;33m[\u001b[0m\u001b[1;33m]\u001b[0m\u001b[1;33m\u001b[0m\u001b[1;33m\u001b[0m\u001b[0m\n",
      "\u001b[1;32m~\\Anaconda3\\lib\\site-packages\\nltk\\tokenize\\__init__.py\u001b[0m in \u001b[0;36mword_tokenize\u001b[1;34m(text, language, preserve_line)\u001b[0m\n\u001b[0;32m    142\u001b[0m     \u001b[1;33m:\u001b[0m\u001b[0mtype\u001b[0m \u001b[0mpreserve_line\u001b[0m\u001b[1;33m:\u001b[0m \u001b[0mbool\u001b[0m\u001b[1;33m\u001b[0m\u001b[1;33m\u001b[0m\u001b[0m\n\u001b[0;32m    143\u001b[0m     \"\"\"\n\u001b[1;32m--> 144\u001b[1;33m     \u001b[0msentences\u001b[0m \u001b[1;33m=\u001b[0m \u001b[1;33m[\u001b[0m\u001b[0mtext\u001b[0m\u001b[1;33m]\u001b[0m \u001b[1;32mif\u001b[0m \u001b[0mpreserve_line\u001b[0m \u001b[1;32melse\u001b[0m \u001b[0msent_tokenize\u001b[0m\u001b[1;33m(\u001b[0m\u001b[0mtext\u001b[0m\u001b[1;33m,\u001b[0m \u001b[0mlanguage\u001b[0m\u001b[1;33m)\u001b[0m\u001b[1;33m\u001b[0m\u001b[1;33m\u001b[0m\u001b[0m\n\u001b[0m\u001b[0;32m    145\u001b[0m     return [\n\u001b[0;32m    146\u001b[0m         \u001b[0mtoken\u001b[0m \u001b[1;32mfor\u001b[0m \u001b[0msent\u001b[0m \u001b[1;32min\u001b[0m \u001b[0msentences\u001b[0m \u001b[1;32mfor\u001b[0m \u001b[0mtoken\u001b[0m \u001b[1;32min\u001b[0m \u001b[0m_treebank_word_tokenizer\u001b[0m\u001b[1;33m.\u001b[0m\u001b[0mtokenize\u001b[0m\u001b[1;33m(\u001b[0m\u001b[0msent\u001b[0m\u001b[1;33m)\u001b[0m\u001b[1;33m\u001b[0m\u001b[1;33m\u001b[0m\u001b[0m\n",
      "\u001b[1;32m~\\Anaconda3\\lib\\site-packages\\nltk\\tokenize\\__init__.py\u001b[0m in \u001b[0;36msent_tokenize\u001b[1;34m(text, language)\u001b[0m\n\u001b[0;32m    104\u001b[0m     \"\"\"\n\u001b[0;32m    105\u001b[0m     \u001b[0mtokenizer\u001b[0m \u001b[1;33m=\u001b[0m \u001b[0mload\u001b[0m\u001b[1;33m(\u001b[0m\u001b[1;34m'tokenizers/punkt/{0}.pickle'\u001b[0m\u001b[1;33m.\u001b[0m\u001b[0mformat\u001b[0m\u001b[1;33m(\u001b[0m\u001b[0mlanguage\u001b[0m\u001b[1;33m)\u001b[0m\u001b[1;33m)\u001b[0m\u001b[1;33m\u001b[0m\u001b[1;33m\u001b[0m\u001b[0m\n\u001b[1;32m--> 106\u001b[1;33m     \u001b[1;32mreturn\u001b[0m \u001b[0mtokenizer\u001b[0m\u001b[1;33m.\u001b[0m\u001b[0mtokenize\u001b[0m\u001b[1;33m(\u001b[0m\u001b[0mtext\u001b[0m\u001b[1;33m)\u001b[0m\u001b[1;33m\u001b[0m\u001b[1;33m\u001b[0m\u001b[0m\n\u001b[0m\u001b[0;32m    107\u001b[0m \u001b[1;33m\u001b[0m\u001b[0m\n\u001b[0;32m    108\u001b[0m \u001b[1;33m\u001b[0m\u001b[0m\n",
      "\u001b[1;32m~\\Anaconda3\\lib\\site-packages\\nltk\\tokenize\\punkt.py\u001b[0m in \u001b[0;36mtokenize\u001b[1;34m(self, text, realign_boundaries)\u001b[0m\n\u001b[0;32m   1275\u001b[0m         \u001b[0mGiven\u001b[0m \u001b[0ma\u001b[0m \u001b[0mtext\u001b[0m\u001b[1;33m,\u001b[0m \u001b[0mreturns\u001b[0m \u001b[0ma\u001b[0m \u001b[0mlist\u001b[0m \u001b[0mof\u001b[0m \u001b[0mthe\u001b[0m \u001b[0msentences\u001b[0m \u001b[1;32min\u001b[0m \u001b[0mthat\u001b[0m \u001b[0mtext\u001b[0m\u001b[1;33m.\u001b[0m\u001b[1;33m\u001b[0m\u001b[1;33m\u001b[0m\u001b[0m\n\u001b[0;32m   1276\u001b[0m         \"\"\"\n\u001b[1;32m-> 1277\u001b[1;33m         \u001b[1;32mreturn\u001b[0m \u001b[0mlist\u001b[0m\u001b[1;33m(\u001b[0m\u001b[0mself\u001b[0m\u001b[1;33m.\u001b[0m\u001b[0msentences_from_text\u001b[0m\u001b[1;33m(\u001b[0m\u001b[0mtext\u001b[0m\u001b[1;33m,\u001b[0m \u001b[0mrealign_boundaries\u001b[0m\u001b[1;33m)\u001b[0m\u001b[1;33m)\u001b[0m\u001b[1;33m\u001b[0m\u001b[1;33m\u001b[0m\u001b[0m\n\u001b[0m\u001b[0;32m   1278\u001b[0m \u001b[1;33m\u001b[0m\u001b[0m\n\u001b[0;32m   1279\u001b[0m     \u001b[1;32mdef\u001b[0m \u001b[0mdebug_decisions\u001b[0m\u001b[1;33m(\u001b[0m\u001b[0mself\u001b[0m\u001b[1;33m,\u001b[0m \u001b[0mtext\u001b[0m\u001b[1;33m)\u001b[0m\u001b[1;33m:\u001b[0m\u001b[1;33m\u001b[0m\u001b[1;33m\u001b[0m\u001b[0m\n",
      "\u001b[1;32m~\\Anaconda3\\lib\\site-packages\\nltk\\tokenize\\punkt.py\u001b[0m in \u001b[0;36msentences_from_text\u001b[1;34m(self, text, realign_boundaries)\u001b[0m\n\u001b[0;32m   1329\u001b[0m         \u001b[0mfollows\u001b[0m \u001b[0mthe\u001b[0m \u001b[0mperiod\u001b[0m\u001b[1;33m.\u001b[0m\u001b[1;33m\u001b[0m\u001b[1;33m\u001b[0m\u001b[0m\n\u001b[0;32m   1330\u001b[0m         \"\"\"\n\u001b[1;32m-> 1331\u001b[1;33m         \u001b[1;32mreturn\u001b[0m \u001b[1;33m[\u001b[0m\u001b[0mtext\u001b[0m\u001b[1;33m[\u001b[0m\u001b[0ms\u001b[0m\u001b[1;33m:\u001b[0m\u001b[0me\u001b[0m\u001b[1;33m]\u001b[0m \u001b[1;32mfor\u001b[0m \u001b[0ms\u001b[0m\u001b[1;33m,\u001b[0m \u001b[0me\u001b[0m \u001b[1;32min\u001b[0m \u001b[0mself\u001b[0m\u001b[1;33m.\u001b[0m\u001b[0mspan_tokenize\u001b[0m\u001b[1;33m(\u001b[0m\u001b[0mtext\u001b[0m\u001b[1;33m,\u001b[0m \u001b[0mrealign_boundaries\u001b[0m\u001b[1;33m)\u001b[0m\u001b[1;33m]\u001b[0m\u001b[1;33m\u001b[0m\u001b[1;33m\u001b[0m\u001b[0m\n\u001b[0m\u001b[0;32m   1332\u001b[0m \u001b[1;33m\u001b[0m\u001b[0m\n\u001b[0;32m   1333\u001b[0m     \u001b[1;32mdef\u001b[0m \u001b[0m_slices_from_text\u001b[0m\u001b[1;33m(\u001b[0m\u001b[0mself\u001b[0m\u001b[1;33m,\u001b[0m \u001b[0mtext\u001b[0m\u001b[1;33m)\u001b[0m\u001b[1;33m:\u001b[0m\u001b[1;33m\u001b[0m\u001b[1;33m\u001b[0m\u001b[0m\n",
      "\u001b[1;32m~\\Anaconda3\\lib\\site-packages\\nltk\\tokenize\\punkt.py\u001b[0m in \u001b[0;36m<listcomp>\u001b[1;34m(.0)\u001b[0m\n\u001b[0;32m   1329\u001b[0m         \u001b[0mfollows\u001b[0m \u001b[0mthe\u001b[0m \u001b[0mperiod\u001b[0m\u001b[1;33m.\u001b[0m\u001b[1;33m\u001b[0m\u001b[1;33m\u001b[0m\u001b[0m\n\u001b[0;32m   1330\u001b[0m         \"\"\"\n\u001b[1;32m-> 1331\u001b[1;33m         \u001b[1;32mreturn\u001b[0m \u001b[1;33m[\u001b[0m\u001b[0mtext\u001b[0m\u001b[1;33m[\u001b[0m\u001b[0ms\u001b[0m\u001b[1;33m:\u001b[0m\u001b[0me\u001b[0m\u001b[1;33m]\u001b[0m \u001b[1;32mfor\u001b[0m \u001b[0ms\u001b[0m\u001b[1;33m,\u001b[0m \u001b[0me\u001b[0m \u001b[1;32min\u001b[0m \u001b[0mself\u001b[0m\u001b[1;33m.\u001b[0m\u001b[0mspan_tokenize\u001b[0m\u001b[1;33m(\u001b[0m\u001b[0mtext\u001b[0m\u001b[1;33m,\u001b[0m \u001b[0mrealign_boundaries\u001b[0m\u001b[1;33m)\u001b[0m\u001b[1;33m]\u001b[0m\u001b[1;33m\u001b[0m\u001b[1;33m\u001b[0m\u001b[0m\n\u001b[0m\u001b[0;32m   1332\u001b[0m \u001b[1;33m\u001b[0m\u001b[0m\n\u001b[0;32m   1333\u001b[0m     \u001b[1;32mdef\u001b[0m \u001b[0m_slices_from_text\u001b[0m\u001b[1;33m(\u001b[0m\u001b[0mself\u001b[0m\u001b[1;33m,\u001b[0m \u001b[0mtext\u001b[0m\u001b[1;33m)\u001b[0m\u001b[1;33m:\u001b[0m\u001b[1;33m\u001b[0m\u001b[1;33m\u001b[0m\u001b[0m\n",
      "\u001b[1;32m~\\Anaconda3\\lib\\site-packages\\nltk\\tokenize\\punkt.py\u001b[0m in \u001b[0;36mspan_tokenize\u001b[1;34m(self, text, realign_boundaries)\u001b[0m\n\u001b[0;32m   1319\u001b[0m         \u001b[1;32mif\u001b[0m \u001b[0mrealign_boundaries\u001b[0m\u001b[1;33m:\u001b[0m\u001b[1;33m\u001b[0m\u001b[1;33m\u001b[0m\u001b[0m\n\u001b[0;32m   1320\u001b[0m             \u001b[0mslices\u001b[0m \u001b[1;33m=\u001b[0m \u001b[0mself\u001b[0m\u001b[1;33m.\u001b[0m\u001b[0m_realign_boundaries\u001b[0m\u001b[1;33m(\u001b[0m\u001b[0mtext\u001b[0m\u001b[1;33m,\u001b[0m \u001b[0mslices\u001b[0m\u001b[1;33m)\u001b[0m\u001b[1;33m\u001b[0m\u001b[1;33m\u001b[0m\u001b[0m\n\u001b[1;32m-> 1321\u001b[1;33m         \u001b[1;32mfor\u001b[0m \u001b[0msl\u001b[0m \u001b[1;32min\u001b[0m \u001b[0mslices\u001b[0m\u001b[1;33m:\u001b[0m\u001b[1;33m\u001b[0m\u001b[1;33m\u001b[0m\u001b[0m\n\u001b[0m\u001b[0;32m   1322\u001b[0m             \u001b[1;32myield\u001b[0m \u001b[1;33m(\u001b[0m\u001b[0msl\u001b[0m\u001b[1;33m.\u001b[0m\u001b[0mstart\u001b[0m\u001b[1;33m,\u001b[0m \u001b[0msl\u001b[0m\u001b[1;33m.\u001b[0m\u001b[0mstop\u001b[0m\u001b[1;33m)\u001b[0m\u001b[1;33m\u001b[0m\u001b[1;33m\u001b[0m\u001b[0m\n\u001b[0;32m   1323\u001b[0m \u001b[1;33m\u001b[0m\u001b[0m\n",
      "\u001b[1;32m~\\Anaconda3\\lib\\site-packages\\nltk\\tokenize\\punkt.py\u001b[0m in \u001b[0;36m_realign_boundaries\u001b[1;34m(self, text, slices)\u001b[0m\n\u001b[0;32m   1360\u001b[0m         \"\"\"\n\u001b[0;32m   1361\u001b[0m         \u001b[0mrealign\u001b[0m \u001b[1;33m=\u001b[0m \u001b[1;36m0\u001b[0m\u001b[1;33m\u001b[0m\u001b[1;33m\u001b[0m\u001b[0m\n\u001b[1;32m-> 1362\u001b[1;33m         \u001b[1;32mfor\u001b[0m \u001b[0msl1\u001b[0m\u001b[1;33m,\u001b[0m \u001b[0msl2\u001b[0m \u001b[1;32min\u001b[0m \u001b[0m_pair_iter\u001b[0m\u001b[1;33m(\u001b[0m\u001b[0mslices\u001b[0m\u001b[1;33m)\u001b[0m\u001b[1;33m:\u001b[0m\u001b[1;33m\u001b[0m\u001b[1;33m\u001b[0m\u001b[0m\n\u001b[0m\u001b[0;32m   1363\u001b[0m             \u001b[0msl1\u001b[0m \u001b[1;33m=\u001b[0m \u001b[0mslice\u001b[0m\u001b[1;33m(\u001b[0m\u001b[0msl1\u001b[0m\u001b[1;33m.\u001b[0m\u001b[0mstart\u001b[0m \u001b[1;33m+\u001b[0m \u001b[0mrealign\u001b[0m\u001b[1;33m,\u001b[0m \u001b[0msl1\u001b[0m\u001b[1;33m.\u001b[0m\u001b[0mstop\u001b[0m\u001b[1;33m)\u001b[0m\u001b[1;33m\u001b[0m\u001b[1;33m\u001b[0m\u001b[0m\n\u001b[0;32m   1364\u001b[0m             \u001b[1;32mif\u001b[0m \u001b[1;32mnot\u001b[0m \u001b[0msl2\u001b[0m\u001b[1;33m:\u001b[0m\u001b[1;33m\u001b[0m\u001b[1;33m\u001b[0m\u001b[0m\n",
      "\u001b[1;32m~\\Anaconda3\\lib\\site-packages\\nltk\\tokenize\\punkt.py\u001b[0m in \u001b[0;36m_pair_iter\u001b[1;34m(it)\u001b[0m\n\u001b[0;32m    316\u001b[0m     \u001b[0mit\u001b[0m \u001b[1;33m=\u001b[0m \u001b[0miter\u001b[0m\u001b[1;33m(\u001b[0m\u001b[0mit\u001b[0m\u001b[1;33m)\u001b[0m\u001b[1;33m\u001b[0m\u001b[1;33m\u001b[0m\u001b[0m\n\u001b[0;32m    317\u001b[0m     \u001b[1;32mtry\u001b[0m\u001b[1;33m:\u001b[0m\u001b[1;33m\u001b[0m\u001b[1;33m\u001b[0m\u001b[0m\n\u001b[1;32m--> 318\u001b[1;33m         \u001b[0mprev\u001b[0m \u001b[1;33m=\u001b[0m \u001b[0mnext\u001b[0m\u001b[1;33m(\u001b[0m\u001b[0mit\u001b[0m\u001b[1;33m)\u001b[0m\u001b[1;33m\u001b[0m\u001b[1;33m\u001b[0m\u001b[0m\n\u001b[0m\u001b[0;32m    319\u001b[0m     \u001b[1;32mexcept\u001b[0m \u001b[0mStopIteration\u001b[0m\u001b[1;33m:\u001b[0m\u001b[1;33m\u001b[0m\u001b[1;33m\u001b[0m\u001b[0m\n\u001b[0;32m    320\u001b[0m         \u001b[1;32mreturn\u001b[0m\u001b[1;33m\u001b[0m\u001b[1;33m\u001b[0m\u001b[0m\n",
      "\u001b[1;32m~\\Anaconda3\\lib\\site-packages\\nltk\\tokenize\\punkt.py\u001b[0m in \u001b[0;36m_slices_from_text\u001b[1;34m(self, text)\u001b[0m\n\u001b[0;32m   1333\u001b[0m     \u001b[1;32mdef\u001b[0m \u001b[0m_slices_from_text\u001b[0m\u001b[1;33m(\u001b[0m\u001b[0mself\u001b[0m\u001b[1;33m,\u001b[0m \u001b[0mtext\u001b[0m\u001b[1;33m)\u001b[0m\u001b[1;33m:\u001b[0m\u001b[1;33m\u001b[0m\u001b[1;33m\u001b[0m\u001b[0m\n\u001b[0;32m   1334\u001b[0m         \u001b[0mlast_break\u001b[0m \u001b[1;33m=\u001b[0m \u001b[1;36m0\u001b[0m\u001b[1;33m\u001b[0m\u001b[1;33m\u001b[0m\u001b[0m\n\u001b[1;32m-> 1335\u001b[1;33m         \u001b[1;32mfor\u001b[0m \u001b[0mmatch\u001b[0m \u001b[1;32min\u001b[0m \u001b[0mself\u001b[0m\u001b[1;33m.\u001b[0m\u001b[0m_lang_vars\u001b[0m\u001b[1;33m.\u001b[0m\u001b[0mperiod_context_re\u001b[0m\u001b[1;33m(\u001b[0m\u001b[1;33m)\u001b[0m\u001b[1;33m.\u001b[0m\u001b[0mfinditer\u001b[0m\u001b[1;33m(\u001b[0m\u001b[0mtext\u001b[0m\u001b[1;33m)\u001b[0m\u001b[1;33m:\u001b[0m\u001b[1;33m\u001b[0m\u001b[1;33m\u001b[0m\u001b[0m\n\u001b[0m\u001b[0;32m   1336\u001b[0m             \u001b[0mcontext\u001b[0m \u001b[1;33m=\u001b[0m \u001b[0mmatch\u001b[0m\u001b[1;33m.\u001b[0m\u001b[0mgroup\u001b[0m\u001b[1;33m(\u001b[0m\u001b[1;33m)\u001b[0m \u001b[1;33m+\u001b[0m \u001b[0mmatch\u001b[0m\u001b[1;33m.\u001b[0m\u001b[0mgroup\u001b[0m\u001b[1;33m(\u001b[0m\u001b[1;34m'after_tok'\u001b[0m\u001b[1;33m)\u001b[0m\u001b[1;33m\u001b[0m\u001b[1;33m\u001b[0m\u001b[0m\n\u001b[0;32m   1337\u001b[0m             \u001b[1;32mif\u001b[0m \u001b[0mself\u001b[0m\u001b[1;33m.\u001b[0m\u001b[0mtext_contains_sentbreak\u001b[0m\u001b[1;33m(\u001b[0m\u001b[0mcontext\u001b[0m\u001b[1;33m)\u001b[0m\u001b[1;33m:\u001b[0m\u001b[1;33m\u001b[0m\u001b[1;33m\u001b[0m\u001b[0m\n",
      "\u001b[1;31mTypeError\u001b[0m: expected string or bytes-like object"
     ]
    }
   ],
   "source": [
    "corpus['noticia']=corpus['noticia'].apply(lambda x:(remove_punctuation(pattern,x)))\n",
    "corpus['noticia stem'] = corpus['noticia'].apply(stemfraseesp)"
   ]
  },
  {
   "cell_type": "code",
   "execution_count": 36,
   "metadata": {},
   "outputs": [
    {
     "data": {
      "text/html": [
       "<div>\n",
       "<style scoped>\n",
       "    .dataframe tbody tr th:only-of-type {\n",
       "        vertical-align: middle;\n",
       "    }\n",
       "\n",
       "    .dataframe tbody tr th {\n",
       "        vertical-align: top;\n",
       "    }\n",
       "\n",
       "    .dataframe thead th {\n",
       "        text-align: right;\n",
       "    }\n",
       "</style>\n",
       "<table border=\"1\" class=\"dataframe\">\n",
       "  <thead>\n",
       "    <tr style=\"text-align: right;\">\n",
       "      <th></th>\n",
       "      <th>titulo</th>\n",
       "      <th>resumen</th>\n",
       "      <th>cuerpo</th>\n",
       "      <th>class</th>\n",
       "      <th>noticia</th>\n",
       "      <th>noticia stem</th>\n",
       "    </tr>\n",
       "  </thead>\n",
       "  <tbody>\n",
       "    <tr>\n",
       "      <td>0</td>\n",
       "      <td>Soja: aumentó la superficie sembrada con semil...</td>\n",
       "      <td>De acuerdo a los datos relevados por el Instit...</td>\n",
       "      <td>El Ministerio de Agroindustria de la Nación,...</td>\n",
       "      <td>0</td>\n",
       "      <td>soja: aumentó la superficie sembrada con semi...</td>\n",
       "      <td>soj : aumentó la superfici sembr con semill f...</td>\n",
       "    </tr>\n",
       "    <tr>\n",
       "      <td>1</td>\n",
       "      <td>Políticos, empresarios y periodistas en la cel...</td>\n",
       "      <td>Los sondeos para las próximas elecciones y la ...</td>\n",
       "      <td>Políticos, economistas, funcionarios, empres...</td>\n",
       "      <td>0</td>\n",
       "      <td>políticos, empresarios y periodistas en la ce...</td>\n",
       "      <td>polít , empresari y period en la celebración...</td>\n",
       "    </tr>\n",
       "    <tr>\n",
       "      <td>2</td>\n",
       "      <td>Mercado de Liniers: entrada pobre y recuperaci...</td>\n",
       "      <td>Las ventas resultaron ágiles y los mejores lot...</td>\n",
       "      <td>En el Mercado de Liniers ingresaron 7.406 an...</td>\n",
       "      <td>0</td>\n",
       "      <td>mercado de liniers: entrada pobre y recuperaci...</td>\n",
       "      <td>merc de liniers : entrad pobr y recuperación ...</td>\n",
       "    </tr>\n",
       "    <tr>\n",
       "      <td>3</td>\n",
       "      <td>Kate del Castillo cuenta su versión del encuen...</td>\n",
       "      <td>La actriz filmó una serie para Netflix en la q...</td>\n",
       "      <td>Cuando hace más de un año se supo del encuen...</td>\n",
       "      <td>0</td>\n",
       "      <td>kate del castillo cuenta su versión del encue...</td>\n",
       "      <td>kat del castill cuent su versión del encuentr...</td>\n",
       "    </tr>\n",
       "    <tr>\n",
       "      <td>4</td>\n",
       "      <td>La billetera móvil del Banco Nación llega a lo...</td>\n",
       "      <td>El sistema de pago PIM que desarrolló el Banco...</td>\n",
       "      <td>En la pelea contra el efectivo y a favor del...</td>\n",
       "      <td>0</td>\n",
       "      <td>la billetera móvil del banco nación llega a ...</td>\n",
       "      <td>la billeter móvil del banc nación lleg a los...</td>\n",
       "    </tr>\n",
       "    <tr>\n",
       "      <td>...</td>\n",
       "      <td>...</td>\n",
       "      <td>...</td>\n",
       "      <td>...</td>\n",
       "      <td>...</td>\n",
       "      <td>...</td>\n",
       "      <td>...</td>\n",
       "    </tr>\n",
       "    <tr>\n",
       "      <td>215</td>\n",
       "      <td>Dirigente mapuche denuncia amenazas</td>\n",
       "      <td>La referente de la comunidad Pillán Mahuiza, d...</td>\n",
       "      <td>Moira Millan, dirigente mapuche de la comunida...</td>\n",
       "      <td>1</td>\n",
       "      <td>dirigente mapuche denuncia amenazas moira mill...</td>\n",
       "      <td>dirigent mapuch denunci amenaz moir mill , dir...</td>\n",
       "    </tr>\n",
       "    <tr>\n",
       "      <td>216</td>\n",
       "      <td>\"Tengo diferencias de fondo con este Gobierno\"</td>\n",
       "      <td>El candidato a senador por Cumplir se distanci...</td>\n",
       "      <td>El ex ministro de Transporte y candidato a sen...</td>\n",
       "      <td>1</td>\n",
       "      <td>\"tengo diferencias de fondo con este gobierno\"...</td>\n",
       "      <td>`` teng diferent de fond con este gobiern '' e...</td>\n",
       "    </tr>\n",
       "    <tr>\n",
       "      <td>217</td>\n",
       "      <td>\"España está ante una encrucijada\"</td>\n",
       "      <td>La ex presidenta fue crítica con el gobierno d...</td>\n",
       "      <td>En la conferencia de prensa brindada hoy por l...</td>\n",
       "      <td>1</td>\n",
       "      <td>\"españa está ante una encrucijada\" en la con...</td>\n",
       "      <td>`` españ está ante una encrucij '' en la con...</td>\n",
       "    </tr>\n",
       "    <tr>\n",
       "      <td>219</td>\n",
       "      <td>\"No somos locos ni golpistas\"</td>\n",
       "      <td>El presidente de la Generalitat, Carles Puigde...</td>\n",
       "      <td>\"Asumo el mandato del puebl...</td>\n",
       "      <td>1</td>\n",
       "      <td>\"no somos locos ni golpistas\"                 ...</td>\n",
       "      <td>`` no som loc ni golpist '' `` asum el mandat ...</td>\n",
       "    </tr>\n",
       "    <tr>\n",
       "      <td>220</td>\n",
       "      <td>Dietrich esquivó al Congreso</td>\n",
       "      <td>El ministro de Transporte, Guillermo Dietrich,...</td>\n",
       "      <td>Dietrich esquivó su visita al Congreso aducien...</td>\n",
       "      <td>1</td>\n",
       "      <td>dietrich esquivó al congreso dietrich esquivo...</td>\n",
       "      <td>dietrich esquivó al congres dietrich esquivó...</td>\n",
       "    </tr>\n",
       "  </tbody>\n",
       "</table>\n",
       "<p>347 rows × 6 columns</p>\n",
       "</div>"
      ],
      "text/plain": [
       "                                                titulo  \\\n",
       "0    Soja: aumentó la superficie sembrada con semil...   \n",
       "1    Políticos, empresarios y periodistas en la cel...   \n",
       "2    Mercado de Liniers: entrada pobre y recuperaci...   \n",
       "3    Kate del Castillo cuenta su versión del encuen...   \n",
       "4    La billetera móvil del Banco Nación llega a lo...   \n",
       "..                                                 ...   \n",
       "215                Dirigente mapuche denuncia amenazas   \n",
       "216     \"Tengo diferencias de fondo con este Gobierno\"   \n",
       "217                 \"España está ante una encrucijada\"   \n",
       "219                      \"No somos locos ni golpistas\"   \n",
       "220                       Dietrich esquivó al Congreso   \n",
       "\n",
       "                                               resumen  \\\n",
       "0    De acuerdo a los datos relevados por el Instit...   \n",
       "1    Los sondeos para las próximas elecciones y la ...   \n",
       "2    Las ventas resultaron ágiles y los mejores lot...   \n",
       "3    La actriz filmó una serie para Netflix en la q...   \n",
       "4    El sistema de pago PIM que desarrolló el Banco...   \n",
       "..                                                 ...   \n",
       "215  La referente de la comunidad Pillán Mahuiza, d...   \n",
       "216  El candidato a senador por Cumplir se distanci...   \n",
       "217  La ex presidenta fue crítica con el gobierno d...   \n",
       "219  El presidente de la Generalitat, Carles Puigde...   \n",
       "220  El ministro de Transporte, Guillermo Dietrich,...   \n",
       "\n",
       "                                                cuerpo  class  \\\n",
       "0      El Ministerio de Agroindustria de la Nación,...      0   \n",
       "1      Políticos, economistas, funcionarios, empres...      0   \n",
       "2      En el Mercado de Liniers ingresaron 7.406 an...      0   \n",
       "3      Cuando hace más de un año se supo del encuen...      0   \n",
       "4      En la pelea contra el efectivo y a favor del...      0   \n",
       "..                                                 ...    ...   \n",
       "215  Moira Millan, dirigente mapuche de la comunida...      1   \n",
       "216  El ex ministro de Transporte y candidato a sen...      1   \n",
       "217  En la conferencia de prensa brindada hoy por l...      1   \n",
       "219                     \"Asumo el mandato del puebl...      1   \n",
       "220  Dietrich esquivó su visita al Congreso aducien...      1   \n",
       "\n",
       "                                               noticia  \\\n",
       "0    soja: aumentó la superficie sembrada con semi...   \n",
       "1    políticos, empresarios y periodistas en la ce...   \n",
       "2    mercado de liniers: entrada pobre y recuperaci...   \n",
       "3    kate del castillo cuenta su versión del encue...   \n",
       "4    la billetera móvil del banco nación llega a ...   \n",
       "..                                                 ...   \n",
       "215  dirigente mapuche denuncia amenazas moira mill...   \n",
       "216  \"tengo diferencias de fondo con este gobierno\"...   \n",
       "217  \"españa está ante una encrucijada\" en la con...   \n",
       "219  \"no somos locos ni golpistas\"                 ...   \n",
       "220  dietrich esquivó al congreso dietrich esquivo...   \n",
       "\n",
       "                                          noticia stem  \n",
       "0    soj : aumentó la superfici sembr con semill f...  \n",
       "1    polít , empresari y period en la celebración...  \n",
       "2    merc de liniers : entrad pobr y recuperación ...  \n",
       "3    kat del castill cuent su versión del encuentr...  \n",
       "4    la billeter móvil del banc nación lleg a los...  \n",
       "..                                                 ...  \n",
       "215  dirigent mapuch denunci amenaz moir mill , dir...  \n",
       "216  `` teng diferent de fond con este gobiern '' e...  \n",
       "217  `` españ está ante una encrucij '' en la con...  \n",
       "219  `` no som loc ni golpist '' `` asum el mandat ...  \n",
       "220  dietrich esquivó al congres dietrich esquivó...  \n",
       "\n",
       "[347 rows x 6 columns]"
      ]
     },
     "execution_count": 36,
     "metadata": {},
     "output_type": "execute_result"
    }
   ],
   "source": [
    "corpus"
   ]
  },
  {
   "cell_type": "markdown",
   "metadata": {},
   "source": [
    "## 2. Modelo\n",
    "\n",
    "Vectorizar el corpus resultante con TF-IDF y aplicar un modelo Naive Bayes con un split simple entre train y test. \n",
    "<br />\n",
    "¿Cuál es la dimensión de la matriz de features? ¿Cuál es el accuracy obtenido? <br />\n",
    "Dibujar la matriz de confusión."
   ]
  },
  {
   "cell_type": "code",
   "execution_count": 37,
   "metadata": {},
   "outputs": [],
   "source": [
    "X=corpus['noticia stem']\n",
    "y=corpus['class']"
   ]
  },
  {
   "cell_type": "code",
   "execution_count": 38,
   "metadata": {},
   "outputs": [],
   "source": [
    "spanish_stop_words=pd.read_csv('lista de stopwords.csv',encoding='latin1')"
   ]
  },
  {
   "cell_type": "code",
   "execution_count": 60,
   "metadata": {},
   "outputs": [
    {
     "data": {
      "text/html": [
       "<div>\n",
       "<style scoped>\n",
       "    .dataframe tbody tr th:only-of-type {\n",
       "        vertical-align: middle;\n",
       "    }\n",
       "\n",
       "    .dataframe tbody tr th {\n",
       "        vertical-align: top;\n",
       "    }\n",
       "\n",
       "    .dataframe thead th {\n",
       "        text-align: right;\n",
       "    }\n",
       "</style>\n",
       "<table border=\"1\" class=\"dataframe\">\n",
       "  <thead>\n",
       "    <tr style=\"text-align: right;\">\n",
       "      <th></th>\n",
       "      <th>a</th>\n",
       "    </tr>\n",
       "  </thead>\n",
       "  <tbody>\n",
       "    <tr>\n",
       "      <td>0</td>\n",
       "      <td>a</td>\n",
       "    </tr>\n",
       "    <tr>\n",
       "      <td>1</td>\n",
       "      <td>acá</td>\n",
       "    </tr>\n",
       "    <tr>\n",
       "      <td>2</td>\n",
       "      <td>ademas</td>\n",
       "    </tr>\n",
       "    <tr>\n",
       "      <td>3</td>\n",
       "      <td>además</td>\n",
       "    </tr>\n",
       "    <tr>\n",
       "      <td>4</td>\n",
       "      <td>ahí</td>\n",
       "    </tr>\n",
       "    <tr>\n",
       "      <td>...</td>\n",
       "      <td>...</td>\n",
       "    </tr>\n",
       "    <tr>\n",
       "      <td>207</td>\n",
       "      <td>verdadera</td>\n",
       "    </tr>\n",
       "    <tr>\n",
       "      <td>208</td>\n",
       "      <td>voy</td>\n",
       "    </tr>\n",
       "    <tr>\n",
       "      <td>209</td>\n",
       "      <td>y</td>\n",
       "    </tr>\n",
       "    <tr>\n",
       "      <td>210</td>\n",
       "      <td>ya</td>\n",
       "    </tr>\n",
       "    <tr>\n",
       "      <td>211</td>\n",
       "      <td>yo</td>\n",
       "    </tr>\n",
       "  </tbody>\n",
       "</table>\n",
       "<p>212 rows × 1 columns</p>\n",
       "</div>"
      ],
      "text/plain": [
       "             a\n",
       "0            a\n",
       "1          acá\n",
       "2       ademas\n",
       "3       además\n",
       "4          ahí\n",
       "..         ...\n",
       "207  verdadera\n",
       "208        voy\n",
       "209          y\n",
       "210         ya\n",
       "211         yo\n",
       "\n",
       "[212 rows x 1 columns]"
      ]
     },
     "execution_count": 60,
     "metadata": {},
     "output_type": "execute_result"
    }
   ],
   "source": [
    "spanish_stop_words"
   ]
  },
  {
   "cell_type": "code",
   "execution_count": 73,
   "metadata": {},
   "outputs": [
    {
     "data": {
      "text/plain": [
       "313"
      ]
     },
     "execution_count": 73,
     "metadata": {},
     "output_type": "execute_result"
    }
   ],
   "source": [
    "spanish_stopwords = stopwords.words('spanish')\n",
    "len(spanish_stopwords)"
   ]
  },
  {
   "cell_type": "code",
   "execution_count": 42,
   "metadata": {},
   "outputs": [
    {
     "data": {
      "text/plain": [
       "0    0.726225\n",
       "1    0.273775\n",
       "Name: class, dtype: float64"
      ]
     },
     "execution_count": 42,
     "metadata": {},
     "output_type": "execute_result"
    }
   ],
   "source": [
    "y.value_counts(normalize=True)"
   ]
  },
  {
   "cell_type": "code",
   "execution_count": 43,
   "metadata": {},
   "outputs": [],
   "source": [
    "from sklearn.model_selection import train_test_split\n",
    "X_train, X_test, y_train, y_test = train_test_split(X,y,test_size=0.2,\n",
    "                                                    random_state=42,\n",
    "                                                   stratify=y)\n"
   ]
  },
  {
   "cell_type": "code",
   "execution_count": 44,
   "metadata": {},
   "outputs": [
    {
     "data": {
      "text/plain": [
       "151    “ no hay iguald sin cambi ” vari especial en g...\n",
       "295    un thrill imprescind tal vez dav mackenzi ni s...\n",
       "341    de buen air a nuev york : viaj a las entrañ d...\n",
       "125    la muj conduc el cambi en arabi arabi saudit h...\n",
       "293    murió el actor jean rochefort , reconoc figur...\n",
       "                             ...                        \n",
       "94     la cám de puert priv pidió transparent los c...\n",
       "327    martín bossi se disfrazó de lionel messi y l...\n",
       "88     robert cap : el fotógraf de la guerr , en tie...\n",
       "22     el president catalán carl puigdemont declaró...\n",
       "37     avanz vari proyect de ley par pen la tenenci d...\n",
       "Name: noticia stem, Length: 277, dtype: object"
      ]
     },
     "execution_count": 44,
     "metadata": {},
     "output_type": "execute_result"
    }
   ],
   "source": [
    "X_train"
   ]
  },
  {
   "cell_type": "code",
   "execution_count": 55,
   "metadata": {},
   "outputs": [
    {
     "ename": "ModuleNotFoundError",
     "evalue": "No module named 'unicode'",
     "output_type": "error",
     "traceback": [
      "\u001b[1;31m---------------------------------------------------------------------------\u001b[0m",
      "\u001b[1;31mModuleNotFoundError\u001b[0m                       Traceback (most recent call last)",
      "\u001b[1;32m<ipython-input-55-49351932d950>\u001b[0m in \u001b[0;36m<module>\u001b[1;34m\u001b[0m\n\u001b[0;32m      1\u001b[0m \u001b[1;32mfrom\u001b[0m \u001b[0msklearn\u001b[0m\u001b[1;33m.\u001b[0m\u001b[0mpreprocessing\u001b[0m \u001b[1;32mimport\u001b[0m \u001b[0mFunctionTransformer\u001b[0m\u001b[1;33m\u001b[0m\u001b[1;33m\u001b[0m\u001b[0m\n\u001b[1;32m----> 2\u001b[1;33m \u001b[1;32mimport\u001b[0m \u001b[0municode\u001b[0m\u001b[1;33m\u001b[0m\u001b[1;33m\u001b[0m\u001b[0m\n\u001b[0m",
      "\u001b[1;31mModuleNotFoundError\u001b[0m: No module named 'unicode'"
     ]
    }
   ],
   "source": [
    "from sklearn.preprocessing import FunctionTransformer\n"
   ]
  },
  {
   "cell_type": "code",
   "execution_count": null,
   "metadata": {},
   "outputs": [
    {
     "name": "stdout",
     "output_type": "stream",
     "text": [
      "Fitting 5 folds for each of 64 candidates, totalling 320 fits\n"
     ]
    },
    {
     "name": "stderr",
     "output_type": "stream",
     "text": [
      "[Parallel(n_jobs=-1)]: Using backend LokyBackend with 8 concurrent workers.\n",
      "[Parallel(n_jobs=-1)]: Done  34 tasks      | elapsed:   24.3s\n",
      "[Parallel(n_jobs=-1)]: Done 184 tasks      | elapsed:  2.4min\n",
      "[Parallel(n_jobs=-1)]: Done 320 out of 320 | elapsed:  5.3min finished\n"
     ]
    },
    {
     "name": "stdout",
     "output_type": "stream",
     "text": [
      "Fitting 5 folds for each of 64 candidates, totalling 320 fits\n"
     ]
    },
    {
     "name": "stderr",
     "output_type": "stream",
     "text": [
      "[Parallel(n_jobs=-1)]: Using backend LokyBackend with 8 concurrent workers.\n",
      "[Parallel(n_jobs=-1)]: Done  34 tasks      | elapsed:   39.6s\n",
      "[Parallel(n_jobs=-1)]: Done 184 tasks      | elapsed:  3.5min\n"
     ]
    }
   ],
   "source": [
    "pipeline = Pipeline([\n",
    "    ('vect',TfidfVectorizer(analyzer='word')),\n",
    "    ('dense',FunctionTransformer(lambda x: x.todense(), accept_sparse=True)),\n",
    "    ('classifier',None)])\n",
    "\n",
    "parameters =[\n",
    "        \n",
    "        dict(dict(vect__stop_words=[spanish_stopwords,None],\n",
    "             vect__ngram_range=[(1,1),(1,2)],\n",
    "             vect__min_df=[0]),\n",
    "             classifier__n_estimators=[600],\n",
    "             classifier__random_state=[seed],\n",
    "             classifier__min_samples_split=[2,3],\n",
    "             classifier__min_samples_leaf=[5],\n",
    "             classifier__bootstrap=[True,False],\n",
    "             classifier__max_depth=[3,4],\n",
    "             classifier__class_weight=['balanced',None],\n",
    "             classifier=[RandomForestClassifier()])]\n",
    "\n",
    "gs = GridSearchCV(pipeline, parameters, cv=5,\n",
    "                               n_jobs=-1, verbose=1,scoring='roc_auc',return_train_score=False).fit(X_train, y_train)\n",
    "gs.fit(X_train, y_train).best_params_"
   ]
  },
  {
   "cell_type": "markdown",
   "metadata": {},
   "source": [
    "dict(dict(#vect__stop_words=['Spanish',None],\n",
    "             vect__ngram_range=[(1,1),(1,2)],\n",
    "             vect__min_df=[2,5]),\n",
    "            classifier__C=[1,1e20],\n",
    "             classifier__solver=['lbfgs'],\n",
    "             classifier__max_iter=[300,500],\n",
    "             classifier__class_weight=['balanced',None],\n",
    "             classifier=[LogisticRegression()]),\n",
    "        dict(dict(#vect__stop_words=['Spanish',None],\n",
    "             vect__ngram_range=[(1,1),(1,2)],\n",
    "             vect__min_df=[2,5]),\n",
    "            classifier=[BernoulliNB()]),\n",
    "        dict(dict(#vect__stop_words=['Spanish',None],\n",
    "             vect__ngram_range=[(1,1),(1,2)],\n",
    "             vect__min_df=[2,5]),\n",
    "            classifier=[GaussianNB()]),"
   ]
  },
  {
   "cell_type": "code",
   "execution_count": 114,
   "metadata": {},
   "outputs": [
    {
     "data": {
      "text/plain": [
       "0.9474036955433162"
      ]
     },
     "execution_count": 114,
     "metadata": {},
     "output_type": "execute_result"
    }
   ],
   "source": [
    "gs.best_score_"
   ]
  },
  {
   "cell_type": "code",
   "execution_count": null,
   "metadata": {},
   "outputs": [],
   "source": []
  },
  {
   "cell_type": "code",
   "execution_count": 115,
   "metadata": {},
   "outputs": [],
   "source": [
    "pred_tra=gs.predict(X_train)"
   ]
  },
  {
   "cell_type": "code",
   "execution_count": 116,
   "metadata": {},
   "outputs": [
    {
     "name": "stdout",
     "output_type": "stream",
     "text": [
      "              precision    recall  f1-score   support\n",
      "\n",
      "           0       0.99      1.00      1.00       201\n",
      "           1       1.00      0.97      0.99        76\n",
      "\n",
      "    accuracy                           0.99       277\n",
      "   macro avg       1.00      0.99      0.99       277\n",
      "weighted avg       0.99      0.99      0.99       277\n",
      "\n"
     ]
    }
   ],
   "source": [
    "print(classification_report(y_train,pred_tra))"
   ]
  },
  {
   "cell_type": "code",
   "execution_count": 117,
   "metadata": {},
   "outputs": [],
   "source": [
    "pred=gs.predict(X_test)"
   ]
  },
  {
   "cell_type": "code",
   "execution_count": 118,
   "metadata": {},
   "outputs": [
    {
     "data": {
      "text/plain": [
       "0.7502579979360166"
      ]
     },
     "execution_count": 118,
     "metadata": {},
     "output_type": "execute_result"
    }
   ],
   "source": [
    "fpr, tpr, thresholds =roc_curve(y_test, pred)\n",
    "auc(fpr, tpr)"
   ]
  },
  {
   "cell_type": "code",
   "execution_count": 119,
   "metadata": {},
   "outputs": [
    {
     "name": "stdout",
     "output_type": "stream",
     "text": [
      "              precision    recall  f1-score   support\n",
      "\n",
      "           0       0.85      0.92      0.89        51\n",
      "           1       0.73      0.58      0.65        19\n",
      "\n",
      "    accuracy                           0.83        70\n",
      "   macro avg       0.79      0.75      0.77        70\n",
      "weighted avg       0.82      0.83      0.82        70\n",
      "\n"
     ]
    }
   ],
   "source": [
    "print(classification_report(y_test,pred))"
   ]
  },
  {
   "cell_type": "code",
   "execution_count": 120,
   "metadata": {},
   "outputs": [],
   "source": [
    "clarin='Marcaron presencia los embajadores y representantes de las 22 sedes que los 28 miembros de la Unión Europea tienen en la Argentina. Alberto Fernández llegó pasadas las 13 horas y se fue poco antes de las 16. Era su primer encuentro como presidente electo con los jefes de las embajadas de la UE.Así, este jueves Fernandez se definió ante los diplomáticos de la UE en Argentina como un “europeista”, y ante ellos también pidió ayuda para que el país afronte sus problemas de deuda pendientes con el Fondo Monetario Internacional. Y les pidió que lleguen más inversiones de la región.Alberto Fernández afirmó que espera que el Gobierno argentino “no reconozca” la presidencia interina de Jeanine Áñez en BoliviaAdemás, lejos de las críticas que en la campaña electoral tuvo Alberto F. para con el acuerdo de libre comercio entre ese bloque y el Mercosur anunciado el 28, Fernández se mostró partidario de un asociación en ese sentido aunque dijo que lo firmado debía revisarlo porque no conocía su contenido.'\n"
   ]
  },
  {
   "cell_type": "code",
   "execution_count": 121,
   "metadata": {},
   "outputs": [
    {
     "name": "stdout",
     "output_type": "stream",
     "text": [
      "Marcaron presencia los embajadores y representantes de las 22 sedes que los 28 miembros de la Unión Europea tienen en la Argentina. Alberto Fernández llegó pasadas las 13 horas y se fue poco antes de las 16. Era su primer encuentro como presidente electo con los jefes de las embajadas de la UE.Así, este jueves Fernandez se definió ante los diplomáticos de la UE en Argentina como un “europeista”, y ante ellos también pidió ayuda para que el país afronte sus problemas de deuda pendientes con el Fondo Monetario Internacional. Y les pidió que lleguen más inversiones de la región.Alberto Fernández afirmó que espera que el Gobierno argentino “no reconozca” la presidencia interina de Jeanine Áñez en BoliviaAdemás, lejos de las críticas que en la campaña electoral tuvo Alberto F. para con el acuerdo de libre comercio entre ese bloque y el Mercosur anunciado el 28, Fernández se mostró partidario de un asociación en ese sentido aunque dijo que lo firmado debía revisarlo porque no conocía su contenido.\n"
     ]
    }
   ],
   "source": [
    "print(clarin)"
   ]
  },
  {
   "cell_type": "code",
   "execution_count": 122,
   "metadata": {},
   "outputs": [],
   "source": [
    "pagina12='Por ahora, Cohen está procesado por falso testimonio agravado, que es una figura grave que puede implicar hasta diez años de cárcel. Pero Baratta pide que sea ampliada su indagatoria, ya que considera que su responsabilidad es mayor y abarca maniobras más complejas. La causa a cargo de Ramos y de la fiscal Paloma Ochoa, se focalizó hasta el momento en la responsabilidad de Cohen en la redacción de un peritaje que contenía tramos copiados de una tesis de dos estudiantes chilenos y que invocaba un parámetro para calcular costos que es un valor llamado Henry Hub, que es un precio estadounidense interno en boca de gasoducto. No es un precio internacional ni Estados Unidos exportó GNL en el tramo investigado. Pero Cohen con esa referencia hablaba del pago de millones de dólares de sobreprecios. Para colmo hizo un dictamen propio, separado del resto de los peritos, que fue el que tuvo en cuenta el juez Claudio Bonadío. La causa llevó a Baratta y a julio De Vido a la cárcel. Cuando se venía venir que era un estudio trucho, apareció el falso abogado Marcelo Sebastián D’Alessio en la causa. A la larga el juez cambió el eje y señaló otras irregularidades, no ya sobreprecios.'"
   ]
  },
  {
   "cell_type": "code",
   "execution_count": 123,
   "metadata": {},
   "outputs": [
    {
     "name": "stdout",
     "output_type": "stream",
     "text": [
      "Por ahora, Cohen está procesado por falso testimonio agravado, que es una figura grave que puede implicar hasta diez años de cárcel. Pero Baratta pide que sea ampliada su indagatoria, ya que considera que su responsabilidad es mayor y abarca maniobras más complejas. La causa a cargo de Ramos y de la fiscal Paloma Ochoa, se focalizó hasta el momento en la responsabilidad de Cohen en la redacción de un peritaje que contenía tramos copiados de una tesis de dos estudiantes chilenos y que invocaba un parámetro para calcular costos que es un valor llamado Henry Hub, que es un precio estadounidense interno en boca de gasoducto. No es un precio internacional ni Estados Unidos exportó GNL en el tramo investigado. Pero Cohen con esa referencia hablaba del pago de millones de dólares de sobreprecios. Para colmo hizo un dictamen propio, separado del resto de los peritos, que fue el que tuvo en cuenta el juez Claudio Bonadío. La causa llevó a Baratta y a julio De Vido a la cárcel. Cuando se venía venir que era un estudio trucho, apareció el falso abogado Marcelo Sebastián D’Alessio en la causa. A la larga el juez cambió el eje y señaló otras irregularidades, no ya sobreprecios.\n"
     ]
    }
   ],
   "source": [
    " print(pagina12)"
   ]
  },
  {
   "cell_type": "code",
   "execution_count": 124,
   "metadata": {},
   "outputs": [
    {
     "name": "stdout",
     "output_type": "stream",
     "text": [
      "[0 0]\n"
     ]
    }
   ],
   "source": [
    "print(gs.predict([clarin,pagina12]))\n"
   ]
  },
  {
   "cell_type": "code",
   "execution_count": null,
   "metadata": {},
   "outputs": [],
   "source": []
  },
  {
   "cell_type": "code",
   "execution_count": null,
   "metadata": {},
   "outputs": [],
   "source": []
  },
  {
   "cell_type": "code",
   "execution_count": null,
   "metadata": {},
   "outputs": [],
   "source": []
  },
  {
   "cell_type": "code",
   "execution_count": null,
   "metadata": {},
   "outputs": [],
   "source": []
  }
 ],
 "metadata": {
  "kernelspec": {
   "display_name": "Python 3",
   "language": "python",
   "name": "python3"
  },
  "language_info": {
   "codemirror_mode": {
    "name": "ipython",
    "version": 3
   },
   "file_extension": ".py",
   "mimetype": "text/x-python",
   "name": "python",
   "nbconvert_exporter": "python",
   "pygments_lexer": "ipython3",
   "version": "3.7.1"
  }
 },
 "nbformat": 4,
 "nbformat_minor": 2
}
